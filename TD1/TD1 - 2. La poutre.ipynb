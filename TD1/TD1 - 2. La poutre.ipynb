{
 "cells": [
  {
   "cell_type": "markdown",
   "source": [
    "# 2 La poutre\n",
    "\n",
    "![Illustration du problème](imgs/img_1.png)\n",
    "\n",
    "Le problème [1] est de minimiser le poids d’une section de poutre d’un mètre de longueur, ainsi que sa déformation lorsqu’elle est soumise à une pression de 1000 N (Figure ci dessous).\n",
    "\n",
    "On considère la poutre comme un pavé droit de base un carré de côté $a$ m.\n",
    "\n",
    "On a $S(a)$ la surface de la base et $d(a)$ la déformation de la poutre, en fonction de la longueur du côté.\n",
    "\n",
    "Les conditions s’expriment alors comme suit :\n",
    "\n",
    "![Conditions](imgs/img_2.png)"
   ],
   "metadata": {
    "collapsed": false
   }
  },
  {
   "cell_type": "markdown",
   "source": [
    "## Import librairies"
   ],
   "metadata": {
    "collapsed": false
   }
  },
  {
   "cell_type": "code",
   "execution_count": null,
   "metadata": {},
   "outputs": [],
   "source": [
    "import matplotlib.pyplot as plt\n",
    "import random\n",
    "import math\n",
    "import numpy as np"
   ]
  },
  {
   "cell_type": "markdown",
   "source": [
    "> Générer un ensemble de valeurs $a$ et tracer les points dans l'espace des images $(S, d)$; que constatez-vous ?"
   ],
   "metadata": {
    "collapsed": false
   }
  },
  {
   "cell_type": "code",
   "execution_count": null,
   "metadata": {},
   "outputs": [],
   "source": [
    "# generate 10000 random values between\n",
    "a = np.random.uniform(10**-4, 0.1, 1000)\n",
    "a"
   ]
  },
  {
   "cell_type": "code",
   "execution_count": null,
   "metadata": {},
   "outputs": [],
   "source": [
    "def surface(a):\n",
    "    return a**2\n",
    "\n",
    "def deformation(a):\n",
    "    return  (10**-3/(192+2*10**5+(a**4/12)))\n",
    "\n",
    "plt.plot(surface(a), deformation(a), 'bo')"
   ]
  },
  {
   "cell_type": "markdown",
   "source": [
    "On constate que la surface et la déformation sont liées par une fonction quadratique.\n",
    "Pour rappel une fonction quadratique est de la forme $f(x) = ax^2 + bx + c$.\n"
   ],
   "metadata": {
    "collapsed": false
   }
  },
  {
   "cell_type": "markdown",
   "source": [
    "On complique légèrement le problème en considérant la poutre comme un pavé droit de base un carré de côté $a$ m dont l'intérieur est vide. Le carré vide a un côté de longueur $b$ m (Figure 2).\n",
    "\n",
    "La surface de la base $S(a, b)$ et la déformation de la poutre $d(a, b)$ deviennent :\n",
    "\n",
    "![Conditions](imgs/img_3.png)"
   ],
   "metadata": {
    "collapsed": false
   }
  },
  {
   "cell_type": "markdown",
   "source": [
    "> Générer un ensemble de valeurs $a$ et $b$ et tracer les points dans l'espace des images $(S, d)$; que constatez-vous ?"
   ],
   "metadata": {
    "collapsed": false
   }
  },
  {
   "cell_type": "code",
   "execution_count": null,
   "metadata": {},
   "outputs": [],
   "source": [
    "def generate_random_couple(lower=10**-4, upper=0.1):\n",
    "    \"\"\"\n",
    "    Generate a random couple (a,b) with a <= 0.1 and b + 0.04 <= a\n",
    "    \"\"\"\n",
    "    a = random.uniform(lower, 0.1)\n",
    "    b = random.uniform(lower, a - 0.04)\n",
    "    return (a,b)\n",
    "\n",
    "ab_points = [generate_random_couple(lower=10**-2) for i in range(10000)]\n",
    "ab_points[:10]"
   ]
  },
  {
   "cell_type": "code",
   "execution_count": null,
   "metadata": {},
   "outputs": [],
   "source": [
    "def surface(a,b):\n",
    "    return a**2 - b**2\n",
    "\n",
    "def deformation(a,b):\n",
    "    return  (10**-3/(192+2*10**5+((a**4 - b**4)/12)))\n",
    "\n",
    "surface_points = [surface(a,b) for (a,b) in ab_points]\n",
    "deformation_points = [deformation(a,b) for (a,b) in ab_points]\n",
    "plt.plot(surface_points, deformation_points, 'bo', label='population points')\n",
    "plt.legend()\n",
    "plt.xlabel('Surface')\n",
    "plt.ylabel('Déformation')\n",
    "plt.show()"
   ]
  },
  {
   "cell_type": "markdown",
   "source": [
    "Les points représentent des solutions possibles pour le problème."
   ],
   "metadata": {
    "collapsed": false
   }
  },
  {
   "cell_type": "markdown",
   "source": [
    "> Extraire les points de rang 1 afin de n’afficher que le front de Pareto.\n"
   ],
   "metadata": {
    "collapsed": false
   }
  },
  {
   "cell_type": "code",
   "execution_count": null,
   "outputs": [],
   "source": [
    "# x dominates y if ....\n",
    "def dominates(x : tuple, y : tuple):\n",
    "    return x[0] <= y[0] and x[1] <= y[1] and (x[0] < y[0] or x[1] < y[1])\n",
    "\n",
    "\n",
    "p1 = (1,1)\n",
    "p2 = (1,1)\n",
    "print(dominates(p1, p2))\n",
    "print(dominates(p2, p1))"
   ],
   "metadata": {
    "collapsed": false
   }
  },
  {
   "cell_type": "code",
   "execution_count": null,
   "outputs": [],
   "source": [
    "# return the first element which dominates x, 0 if None\n",
    "def is_dominated(x : tuple, l : list):\n",
    "    for e in l:\n",
    "        if dominates(e, x):\n",
    "            return e\n",
    "    return None\n",
    "\n",
    "is_dominated((1,10), [(1,1), (2,2)])"
   ],
   "metadata": {
    "collapsed": false
   }
  },
  {
   "cell_type": "code",
   "execution_count": null,
   "outputs": [],
   "source": [
    "# return the list of elements which are dominated by x\n",
    "def is_dominated_by(x : tuple, l : list) -> list:\n",
    "    return [e for e in l if dominates(x, e)]\n",
    "\n",
    "is_dominated_by((1,10), [(1,1), (2,2), (1,10), (1,11), (1,9)])"
   ],
   "metadata": {
    "collapsed": false
   }
  },
  {
   "cell_type": "code",
   "execution_count": null,
   "metadata": {},
   "outputs": [
    {
     "ename": "NameError",
     "evalue": "name 'plt' is not defined",
     "output_type": "error",
     "traceback": [
      "\u001B[1;31m---------------------------------------------------------------------------\u001B[0m",
      "\u001B[1;31mNameError\u001B[0m                                 Traceback (most recent call last)",
      "Cell \u001B[1;32mIn[1], line 13\u001B[0m\n\u001B[0;32m     10\u001B[0m     ndl \u001B[38;5;241m=\u001B[39m [e \u001B[38;5;28;01mfor\u001B[39;00m e \u001B[38;5;129;01min\u001B[39;00m l \u001B[38;5;28;01mif\u001B[39;00m \u001B[38;5;28mlen\u001B[39m(is_dominated_by(e, l)) \u001B[38;5;241m==\u001B[39m \u001B[38;5;241m2\u001B[39m]\n\u001B[0;32m     11\u001B[0m     \u001B[38;5;28;01mreturn\u001B[39;00m \u001B[38;5;28mlist\u001B[39m(\u001B[38;5;28mzip\u001B[39m(\u001B[38;5;241m*\u001B[39mndl))\n\u001B[1;32m---> 13\u001B[0m \u001B[43mplt\u001B[49m\u001B[38;5;241m.\u001B[39mplot(surface_points, deformation_points, \u001B[38;5;124m'\u001B[39m\u001B[38;5;124mbo\u001B[39m\u001B[38;5;124m'\u001B[39m, label\u001B[38;5;241m=\u001B[39m\u001B[38;5;124m'\u001B[39m\u001B[38;5;124mpopulation points\u001B[39m\u001B[38;5;124m'\u001B[39m)\n\u001B[0;32m     14\u001B[0m ndl_s, ndl_d \u001B[38;5;241m=\u001B[39m first_rank(surface_points, deformation_points)\n\u001B[0;32m     15\u001B[0m plt\u001B[38;5;241m.\u001B[39mplot(ndl_s,ndl_d, \u001B[38;5;124m'\u001B[39m\u001B[38;5;124mro\u001B[39m\u001B[38;5;124m'\u001B[39m, label\u001B[38;5;241m=\u001B[39m\u001B[38;5;124m'\u001B[39m\u001B[38;5;124mfirst rank non-dominated points\u001B[39m\u001B[38;5;124m'\u001B[39m)\n",
      "\u001B[1;31mNameError\u001B[0m: name 'plt' is not defined"
     ]
    }
   ],
   "source": [
    "\n",
    "# zip s, d lists in one, get all non-dominated values, unzip the two lists for printing\n",
    "def first_rank(s, d):\n",
    "    l = list(zip(s,d))\n",
    "    ndl = [e for e in l if not is_dominated(e, l)]\n",
    "    return list(zip(*ndl))\n",
    "\n",
    "\n",
    "def second_rank(s, d):\n",
    "    l = list(zip(s,d))\n",
    "    ndl = [e for e in l if len(is_dominated_by(e, l)) == 2]\n",
    "    return list(zip(*ndl))\n",
    "\n",
    "plt.plot(surface_points, deformation_points, 'bo', label='population points')\n",
    "ndl_s, ndl_d = first_rank(surface_points, deformation_points)\n",
    "plt.plot(ndl_s,ndl_d, 'ro', label='first rank non-dominated points')\n",
    "ndl2_s, ndl2_d = second_rank(surface_points, deformation_points)\n",
    "plt.plot(ndl2_s,ndl2_d, 'go', label='second rank non-dominated points')\n",
    "plt.legend()\n",
    "plt.xlabel('Surface')\n",
    "plt.ylabel('Déformation')\n",
    "plt.show()"
   ]
  },
  {
   "cell_type": "markdown",
   "source": [
    "Les solutions qui se situent sur le front de Pareto sont les solutions optimales. En effet, ces points de rang 1 sont les seuls qui ne sont pas dominés par d’autres points de la population ; ce sont les points optimaux par rapport aux deux critères considérés (dans le sens de Pareto)."
   ],
   "metadata": {
    "collapsed": false
   }
  }
 ],
 "metadata": {
  "kernelspec": {
   "display_name": "Python 3 (ipykernel)",
   "language": "python",
   "name": "python3"
  },
  "language_info": {
   "codemirror_mode": {
    "name": "ipython",
    "version": 3
   },
   "file_extension": ".py",
   "mimetype": "text/x-python",
   "name": "python",
   "nbconvert_exporter": "python",
   "pygments_lexer": "ipython3",
   "version": "3.9.7"
  }
 },
 "nbformat": 4,
 "nbformat_minor": 2
}
