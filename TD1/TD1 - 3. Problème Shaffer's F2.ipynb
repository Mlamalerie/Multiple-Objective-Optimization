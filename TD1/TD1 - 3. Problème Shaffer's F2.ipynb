{
 "cells": [
  {
   "cell_type": "markdown",
   "source": [
    "# Problème Shaffer's F2\n",
    "\n",
    "Le problème Shaffer's F2 est un problème de minimisation de fonction à deux variables. Il est défini comme suit :\n",
    "\n",
    "$$ minimiser \\ f_1(x) = x^2$$\n",
    "$$ minimiser \\ f_2(x) = (x-2)^2$$\n",
    "$$ avec \\ x \\in [0,2]$$\n",
    "\n",
    "Nous allons utiliser la méthode de pondération des objectifs pour résoudre ce problème.\n",
    "\n",
    "Rappel : La méthode de pondération des objectifs consiste à pondérer les objectifs de la fonction à minimiser. On obtient alors une fonction à minimiser à une seule variable. On peut alors utiliser une méthode de minimisation unidimensionnelle pour résoudre le problème.\n",
    "\n",
    "\n"
   ],
   "metadata": {
    "collapsed": false
   }
  },
  {
   "cell_type": "code",
   "execution_count": 1,
   "outputs": [],
   "source": [
    "import numpy as np\n",
    "import matplotlib.pyplot as plt\n",
    "from tqdm import tqdm"
   ],
   "metadata": {
    "collapsed": false
   }
  },
  {
   "cell_type": "code",
   "execution_count": 1,
   "metadata": {
    "collapsed": true
   },
   "outputs": [],
   "source": [
    "def f1(x):\n",
    "    return x**2\n",
    "\n",
    "def f2(x):\n",
    "    return (x-2)**2"
   ]
  },
  {
   "cell_type": "markdown",
   "source": [
    "## F : fonction pondérée\n",
    "> Exprimer la fonction F, fonction pondérée avec 2 poids tels que $w_1+w_2=1$ et $w_1,w_2 \\in [0,1]$.\n",
    "\n",
    "Solution : La fonction pondérée est $F(x) = w_1f_1(x)+w_2f_2(x)$. On a donc $F(x) = w_1x^2+w_2(x-2)^2$."
   ],
   "metadata": {
    "collapsed": false
   }
  },
  {
   "cell_type": "code",
   "execution_count": 3,
   "outputs": [
    {
     "ename": "NameError",
     "evalue": "name 'f1' is not defined",
     "output_type": "error",
     "traceback": [
      "\u001B[1;31m---------------------------------------------------------------------------\u001B[0m",
      "\u001B[1;31mNameError\u001B[0m                                 Traceback (most recent call last)",
      "Cell \u001B[1;32mIn[3], line 5\u001B[0m\n\u001B[0;32m      2\u001B[0m     \u001B[38;5;28;01mreturn\u001B[39;00m w1\u001B[38;5;241m*\u001B[39mf1(x)\u001B[38;5;241m+\u001B[39mw2\u001B[38;5;241m*\u001B[39mf2(x)\n\u001B[0;32m      4\u001B[0m x \u001B[38;5;241m=\u001B[39m np\u001B[38;5;241m.\u001B[39mlinspace(\u001B[38;5;241m0\u001B[39m,\u001B[38;5;241m2\u001B[39m,\u001B[38;5;241m100\u001B[39m)\n\u001B[1;32m----> 5\u001B[0m plt\u001B[38;5;241m.\u001B[39mplot(x,\u001B[43mF\u001B[49m\u001B[43m(\u001B[49m\u001B[43mx\u001B[49m\u001B[43m,\u001B[49m\u001B[38;5;241;43m0.5\u001B[39;49m\u001B[43m,\u001B[49m\u001B[38;5;241;43m0.5\u001B[39;49m\u001B[43m)\u001B[49m, label\u001B[38;5;241m=\u001B[39m\u001B[38;5;124m'\u001B[39m\u001B[38;5;124mw1=0.5, w2=0.5\u001B[39m\u001B[38;5;124m'\u001B[39m)\n\u001B[0;32m      6\u001B[0m plt\u001B[38;5;241m.\u001B[39mplot(x,F(x,\u001B[38;5;241m0.2\u001B[39m,\u001B[38;5;241m0.8\u001B[39m), label\u001B[38;5;241m=\u001B[39m\u001B[38;5;124m'\u001B[39m\u001B[38;5;124mw1=0.2, w2=0.8\u001B[39m\u001B[38;5;124m'\u001B[39m)\n\u001B[0;32m      7\u001B[0m plt\u001B[38;5;241m.\u001B[39mplot(x,F(x,\u001B[38;5;241m0.8\u001B[39m,\u001B[38;5;241m0.2\u001B[39m), label\u001B[38;5;241m=\u001B[39m\u001B[38;5;124m'\u001B[39m\u001B[38;5;124mw1=0.8, w2=0.2\u001B[39m\u001B[38;5;124m'\u001B[39m)\n",
      "Cell \u001B[1;32mIn[3], line 2\u001B[0m, in \u001B[0;36mF\u001B[1;34m(x, w1, w2)\u001B[0m\n\u001B[0;32m      1\u001B[0m \u001B[38;5;28;01mdef\u001B[39;00m \u001B[38;5;21mF\u001B[39m(x,w1,w2):\n\u001B[1;32m----> 2\u001B[0m     \u001B[38;5;28;01mreturn\u001B[39;00m w1\u001B[38;5;241m*\u001B[39m\u001B[43mf1\u001B[49m(x)\u001B[38;5;241m+\u001B[39mw2\u001B[38;5;241m*\u001B[39mf2(x)\n",
      "\u001B[1;31mNameError\u001B[0m: name 'f1' is not defined"
     ]
    }
   ],
   "source": [
    "def F(x,w1,w2):\n",
    "    return w1*f1(x)+w2*f2(x)\n",
    "\n",
    "x = np.linspace(0,2,100)\n",
    "plt.plot(x,F(x,0.5,0.5), label='w1=0.5, w2=0.5')\n",
    "plt.plot(x,F(x,0.2,0.8), label='w1=0.2, w2=0.8')\n",
    "plt.plot(x,F(x,0.8,0.2), label='w1=0.8, w2=0.2')\n",
    "plt.xlabel('x')\n",
    "plt.ylabel('F(x)')\n",
    "plt.legend()"
   ],
   "metadata": {
    "collapsed": false
   }
  },
  {
   "cell_type": "markdown",
   "source": [
    "> Nous allons déterminer que la fonction possède un minimum. Calculer la dérivée de la fonction, puis vérifier la convexité du problème (dérivée seconde positive).\n",
    "\n",
    "Solution : La dérivée de la fonction est $$F'(x) = w_1 \\cdot 2x + w_2 \\cdot 2(x-2)$$\n",
    "\n",
    "La dérivée seconde est $$F''(x) = w_1 \\cdot 2 + w_2 \\cdot 2$$\n",
    "\n",
    "Simplifiant cette expression, nous obtenons :\n",
    "\n",
    "$$F''(x) = 2(w_1 + w_2)$$\n",
    "\n",
    "La dérivée seconde est donc positive, donc la fonction est convexe."
   ],
   "metadata": {
    "collapsed": false
   }
  },
  {
   "cell_type": "code",
   "execution_count": null,
   "outputs": [],
   "source": [
    "def grad_F(x,w1,w2):\n",
    "    return 2*x*w1 + 2*(x-2)*w2\n",
    "\n",
    "for w1, w2 in [(0.5,0.5),(0.2,0.8),(0.8,0.2)]:\n",
    "    x = np.linspace(0,2,100)\n",
    "    plt.plot(x,grad_F(x,w1,w2), label=f'w1={w1}, w2={w2}')\n",
    "plt.xlabel('x')\n",
    "plt.ylabel('F\\'(x)')\n",
    "plt.legend()\n",
    "plt.show()"
   ],
   "metadata": {
    "collapsed": false
   }
  },
  {
   "cell_type": "markdown",
   "source": [
    "## Minimum de F en fonction de w1 et w2\n",
    "> Trouver le minimum de la fonction F en fonction de w1 et w2.\n",
    "\n",
    "Pour trouver le minimum de la fonction $F$ en fonction de $w_1$ et $w_2$, nous devons dériver $F$ par rapport à $x$, égaler à zéro, puis résoudre pour $x$.\n",
    "\n",
    "Premièrement, calculons la dérivée de $F$ par rapport à $x$ :\n",
    "\n",
    "$$F'(x) = w_1 \\cdot 2x + w_2 \\cdot 2(x-2)$$\n",
    "\n",
    "Ensuite, égalons $F'(x)$ à zéro :\n",
    "\n",
    "$$w_1 \\cdot 2x + w_2 \\cdot 2(x-2) = 0$$\n",
    "\n",
    "Réorganisons cette équation pour obtenir $x$ :\n",
    "\n",
    "$$x = \\frac{2w_2}{w_1+w_2} + 1$$\n",
    "\n",
    "Maintenant que nous avons l'emplacement du minimum de $F$ en fonction de $w_1$ et $w_2$, nous pouvons le substituer dans l'expression de $F$ pour trouver sa valeur minimale :\n",
    "\n",
    "$$F_{min} = F(x, w_1, w_2)$$\n",
    "\n",
    "$$F_{min} = w_1 \\cdot f_1(x) + w_2 \\cdot f_2(x)$$\n",
    "\n",
    "$$F_{min} = w_1 \\cdot x^2 + w_2 \\cdot (x-2)^2$$\n",
    "\n",
    "$$F_{min} = w_1 \\cdot \\left(\\frac{2w_2}{w_1+w_2}+1\\right)^2 + w_2 \\cdot \\left(\\left(\\frac{2w_2}{w_1+w_2}-1\\right)^2\\right)$$\n",
    "\n",
    "Ainsi, la valeur minimale de la fonction $F$ en fonction de $w_1$ et $w_2$ est $F_{min} = w_1 \\cdot \\left(\\frac{2w_2}{w_1+w_2}+1\\right)^2 + w_2 \\cdot \\left(\\left(\\frac{2w_2}{w_1+w_2}-1\\right)^2\\right)$, avec $x = \\frac{2w_2}{w_1+w_2} + 1$."
   ],
   "metadata": {
    "collapsed": false
   }
  },
  {
   "cell_type": "code",
   "execution_count": null,
   "outputs": [],
   "source": [
    "def get_x_min(w1,w2):\n",
    "    x = 2*w2/(w1+w2)\n",
    "    return x\n",
    "\n",
    "x = np.linspace(0,2,100)\n",
    "w1, w2 = 0.2, 0.8\n",
    "x_min = get_x_min(w1,w2)\n",
    "F_min = F(x_min,w1,w2)\n",
    "print(f'w1 = {w1}, w2 = {w2}, F_min = {F_min} pour x = {x_min}')\n",
    "plt.plot(x,grad_F(x,w1,w2), label=f'w1={w1}, w2={w2}')\n",
    "plt.scatter(x_min,grad_F(x_min,w1,w2), color='red')\n",
    "plt.xlabel('x')\n",
    "plt.ylabel('F\\'(x)')\n",
    "plt.legend()\n",
    "plt.show()\n"
   ],
   "metadata": {
    "collapsed": false
   }
  },
  {
   "cell_type": "code",
   "execution_count": null,
   "outputs": [],
   "source": [
    "x = np.linspace(0,2,100)\n",
    "for w1, w2 in [(0.5,0.5),(0.2,0.8),(0.8,0.2)]:\n",
    "    x_min = get_x_min(w1,w2)\n",
    "    F_min = F(x_min,w1,w2)\n",
    "\n",
    "    print(f'w1 = {w1}, w2 = {w2}, F_min = {F_min} pour x = {x_min}')\n",
    "\n",
    "    # Affichage de la fonction F\n",
    "    plt.plot(x,F(x,w1,w2), label=f'w1={w1}, w2={w2}')\n",
    "\n",
    "    # Affichage du minimum\n",
    "    plt.scatter(x_min,F_min, color='red')\n",
    "plt.xlabel('x')\n",
    "plt.ylabel('F(x)')\n",
    "plt.legend()"
   ],
   "metadata": {
    "collapsed": false
   }
  },
  {
   "cell_type": "markdown",
   "source": [
    "## Front de Pareto\n",
    "> Tracer plusieurs valeurs pour représenter le front de Pareto."
   ],
   "metadata": {
    "collapsed": false
   }
  },
  {
   "cell_type": "code",
   "execution_count": null,
   "outputs": [],
   "source": [
    "def F(x,w1,w2):\n",
    "    return w1*f1(x)+w2*f2(x)\n",
    "\n",
    "w1s : np.ndarray = np.linspace(0,1,50)\n",
    "w2s : np.ndarray = 1 - w1s\n",
    "\n",
    "x_solutions = np.array([get_x_min(w1,w2) for w1,w2 in zip(w1s,w2s)])\n",
    "F_solutions = np.array([F(x,w1,w2) for x,w1,w2 in zip(x_solutions,w1s,w2s)])\n",
    "\n",
    "for w1,w2,x_min,F_min in zip(w1s,w2s,x_solutions,F_solutions):\n",
    "    print(f'w1 = {w1:.2f}, w2 = {w2:.2f}, F_min = {F_min:.2f} pour x = {x_min:.2f}')"
   ],
   "metadata": {
    "collapsed": false
   }
  },
  {
   "cell_type": "code",
   "execution_count": null,
   "outputs": [],
   "source": [
    "\n",
    "\n",
    "def plot_pareto(w1,w2,x_min,F_min, display_F_plot=True,display_text=False):\n",
    "\n",
    "    x = np.linspace(0,2,100)\n",
    "    plt.plot(x,F(x,w1,w2), label=f'w1={w1}, w2={w2}', linestyle='--', linewidth=1) if display_F_plot else None\n",
    "    plt.scatter(x_min,F_min, color='red')\n",
    "    text = f'w1={w1:.2f}, w2={w2:.2f}'\n",
    "    plt.annotate(text, (x_min,F_min), textcoords=\"offset points\", xytext=(0,5), ha='center', fontsize=5) if display_text else None\n",
    "\n",
    "\n",
    "def plot_front_pareto(x_solutions,F_solutions,w1_w2_couple : list, display_F_plot=False, coef_figsize=1, display_text=False):\n",
    "    plt.figure(figsize=(15*coef_figsize,15*coef_figsize))\n",
    "\n",
    "    for i in range(len(x_solutions)):\n",
    "        w1,w2 = w1_w2_couple[i]\n",
    "        plot_pareto(w1=w1,w2=w2,x_min=x_solutions[i],F_min=F_solutions[i], display_F_plot=display_F_plot, display_text=display_text)\n",
    "\n",
    "    plt.xlabel('x')\n",
    "    plt.ylabel('F(x)')\n",
    "    plt.show()\n",
    "\n",
    "plot_front_pareto(x_solutions,F_solutions,w1_w2_couple=list(zip(w1s,w2s)), display_F_plot=False, coef_figsize=1, display_text=True)\n",
    "plot_front_pareto(x_solutions,F_solutions,w1_w2_couple=list(zip(w1s,w2s)), display_F_plot=True, coef_figsize=1, display_text=False)"
   ],
   "metadata": {
    "collapsed": false
   }
  },
  {
   "cell_type": "markdown",
   "source": [
    "## Méthode de $\\epsilon$-domination\n",
    "Nous allons maintenant utiliser la méthode de $\\epsilon$-domination pour résoudre le problème.\n",
    "\n",
    "Rappelons que la méthode de $\\epsilon$-domination consiste à comparer deux solutions $x_1$ et $x_2$ en fonction de deux fonctions $f_1$ et $f_2$."
   ],
   "metadata": {
    "collapsed": false
   }
  },
  {
   "cell_type": "markdown",
   "source": [
    "> Exprimer le problème en contraignant la fonction f2.\n",
    "\n",
    "La méthode de $\\epsilon$-domination consiste à comparer deux solutions $x_1$ et $x_2$ en fonction de deux fonctions $f_1$ et $f_2$. Nous pouvons formuler le problème Shaffer's F2 comme suit :\n",
    "\n",
    "Trouver la solution $x^*$ qui minimise $f_1(x) = x^2$ en respectant la contrainte que $f_2(x) = (x-2)^2 \\leq \\epsilon$, avec $x \\in [0,2]$.\n",
    "\n",
    "Autrement dit, nous cherchons la valeur de $x$ qui minimise $f_1$ tout en satisfaisant la contrainte $f_2 \\leq \\epsilon$. Cette contrainte signifie que nous acceptons des valeurs de $f_2$ allant jusqu'à $\\epsilon$.\n",
    "\n",
    "En utilisant cette formulation, nous pouvons trouver plusieurs solutions pour différents niveaux de $\\epsilon$. Lorsque $\\epsilon$ est très petit, cela signifie que nous imposons une forte contrainte sur la valeur de $f_2$ et, par conséquent, nous obtenons une solution plus proche de la frontière de Pareto."
   ],
   "metadata": {
    "collapsed": false
   }
  },
  {
   "cell_type": "code",
   "execution_count": null,
   "outputs": [],
   "source": [
    "\n"
   ],
   "metadata": {
    "collapsed": false
   }
  },
  {
   "cell_type": "markdown",
   "source": [
    "> Redéfinir, en fonction de $\\epsilon$, l'intervalle de variation de $x$.\n",
    "\n",
    "La contrainte $f_2(x) = (x-2)^2 \\leq \\epsilon$ limite l'intervalle de variation de $x$ à l'ensemble $[x_{min}, x_{max}]$, où :\n",
    "\n",
    "$x_{min}$ est la plus grande valeur de $x$ telle que $f_2(x) \\leq \\epsilon$, donc $x_{min} = 2 - \\sqrt{\\epsilon}$ si $\\epsilon \\leq 4$, et $x_{min} = 0$ sinon.\n",
    "$x_{max}$ est la plus petite valeur de $x$ telle que $f_2(x) \\leq \\epsilon$, donc $x_{max} = 2 + \\sqrt{\\epsilon}$ si $\\epsilon \\leq 4$, et $x_{max} = 2$ sinon.\n",
    "Ainsi, l'intervalle de variation de $x$ est donné par $[x_{min}, x_{max}]$. Notez que si $\\epsilon \\geq 4$, l'intervalle de variation de $x$ est simplement $[0,2]$, car $f_2(x)$ est toujours inférieure à $4$ sur cet intervalle."
   ],
   "metadata": {
    "collapsed": false
   }
  },
  {
   "cell_type": "code",
   "execution_count": null,
   "outputs": [],
   "source": [
    "def get_x_bounds(epsilon : float):\n",
    "    x_min = 0 if epsilon >= 4 else 2 - np.sqrt(epsilon)\n",
    "    x_max = 2 if epsilon >= 4 else 2 + np.sqrt(epsilon)\n",
    "    return x_min, x_max"
   ],
   "metadata": {
    "collapsed": false
   }
  },
  {
   "cell_type": "markdown",
   "source": [
    "> Pour $\\epsilon = 0, 1, 2, 3$\n",
    " > - déterminer les solutions $x^*$.\n",
    " > - calculer les valeurs de $f_1$ et $f_2$ pour ces solutions."
   ],
   "metadata": {
    "collapsed": false
   }
  },
  {
   "cell_type": "code",
   "execution_count": null,
   "outputs": [],
   "source": [],
   "metadata": {
    "collapsed": false
   }
  },
  {
   "cell_type": "code",
   "execution_count": null,
   "outputs": [],
   "source": [],
   "metadata": {
    "collapsed": false
   }
  }
 ],
 "metadata": {
  "kernelspec": {
   "display_name": "Python 3",
   "language": "python",
   "name": "python3"
  },
  "language_info": {
   "codemirror_mode": {
    "name": "ipython",
    "version": 2
   },
   "file_extension": ".py",
   "mimetype": "text/x-python",
   "name": "python",
   "nbconvert_exporter": "python",
   "pygments_lexer": "ipython2",
   "version": "2.7.6"
  }
 },
 "nbformat": 4,
 "nbformat_minor": 0
}
