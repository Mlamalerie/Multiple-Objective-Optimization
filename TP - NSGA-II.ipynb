{
 "cells": [
  {
   "cell_type": "code",
   "execution_count": 33,
   "metadata": {
    "collapsed": true
   },
   "outputs": [],
   "source": [
    "import numpy as np\n",
    "import os\n",
    "import matplotlib.pyplot as plt\n",
    "import random\n",
    "from time import sleep\n",
    "from typing import Tuple, List, Dict\n",
    "from functools import partial, reduce\n",
    "from tqdm import tqdm"
   ]
  },
  {
   "cell_type": "markdown",
   "source": [
    "## The Problem\n",
    "Problème du sac à dos : on dispose d'un ensemble d'objets, chacun ayant un poids et une valeur. On dispose également d'un sac à dos dont on connait la capacité maximale. Le but est de remplir le sac à dos avec des objets de telle sorte que la valeur totale des objets soit maximale tout en respectant la contrainte de poids."
   ],
   "metadata": {
    "collapsed": false
   }
  },
  {
   "cell_type": "code",
   "execution_count": 34,
   "outputs": [
    {
     "data": {
      "text/plain": "['.DS_Store',\n '__MACOSX',\n 'KP_p-3_n-100_ins-1.dat',\n 'KP_p-3_n-100_ins-10.dat',\n 'KP_p-3_n-100_ins-2.dat',\n 'KP_p-3_n-100_ins-3.dat',\n 'KP_p-3_n-100_ins-4.dat',\n 'KP_p-3_n-100_ins-5.dat',\n 'KP_p-3_n-100_ins-6.dat',\n 'KP_p-3_n-100_ins-7.dat',\n 'KP_p-3_n-100_ins-8.dat',\n 'KP_p-3_n-100_ins-9.dat',\n 'KP_p-3_n-10_ins-1.dat',\n 'KP_p-3_n-10_ins-10.dat',\n 'KP_p-3_n-10_ins-2.dat',\n 'KP_p-3_n-10_ins-3.dat',\n 'KP_p-3_n-10_ins-4.dat',\n 'KP_p-3_n-10_ins-5.dat',\n 'KP_p-3_n-10_ins-6.dat',\n 'KP_p-3_n-10_ins-7.dat',\n 'KP_p-3_n-10_ins-8.dat',\n 'KP_p-3_n-10_ins-9.dat',\n 'KP_p-3_n-20_ins-1.dat',\n 'KP_p-3_n-20_ins-10.dat',\n 'KP_p-3_n-20_ins-2.dat',\n 'KP_p-3_n-20_ins-3.dat',\n 'KP_p-3_n-20_ins-4.dat',\n 'KP_p-3_n-20_ins-5.dat',\n 'KP_p-3_n-20_ins-6.dat',\n 'KP_p-3_n-20_ins-7.dat',\n 'KP_p-3_n-20_ins-8.dat',\n 'KP_p-3_n-20_ins-9.dat',\n 'KP_p-3_n-30_ins-1.dat',\n 'KP_p-3_n-30_ins-10.dat',\n 'KP_p-3_n-30_ins-2.dat',\n 'KP_p-3_n-30_ins-3.dat',\n 'KP_p-3_n-30_ins-4.dat',\n 'KP_p-3_n-30_ins-5.dat',\n 'KP_p-3_n-30_ins-6.dat',\n 'KP_p-3_n-30_ins-7.dat',\n 'KP_p-3_n-30_ins-8.dat',\n 'KP_p-3_n-30_ins-9.dat',\n 'KP_p-3_n-40_ins-1.dat',\n 'KP_p-3_n-40_ins-10.dat',\n 'KP_p-3_n-40_ins-2.dat',\n 'KP_p-3_n-40_ins-3.dat',\n 'KP_p-3_n-40_ins-4.dat',\n 'KP_p-3_n-40_ins-5.dat',\n 'KP_p-3_n-40_ins-6.dat',\n 'KP_p-3_n-40_ins-7.dat',\n 'KP_p-3_n-40_ins-8.dat',\n 'KP_p-3_n-40_ins-9.dat',\n 'KP_p-3_n-50_ins-1.dat',\n 'KP_p-3_n-50_ins-10.dat',\n 'KP_p-3_n-50_ins-2.dat',\n 'KP_p-3_n-50_ins-3.dat',\n 'KP_p-3_n-50_ins-4.dat',\n 'KP_p-3_n-50_ins-5.dat',\n 'KP_p-3_n-50_ins-6.dat',\n 'KP_p-3_n-50_ins-7.dat',\n 'KP_p-3_n-50_ins-8.dat',\n 'KP_p-3_n-50_ins-9.dat',\n 'KP_p-3_n-60_ins-1.dat',\n 'KP_p-3_n-60_ins-10.dat',\n 'KP_p-3_n-60_ins-2.dat',\n 'KP_p-3_n-60_ins-3.dat',\n 'KP_p-3_n-60_ins-4.dat',\n 'KP_p-3_n-60_ins-5.dat',\n 'KP_p-3_n-60_ins-6.dat',\n 'KP_p-3_n-60_ins-7.dat',\n 'KP_p-3_n-60_ins-8.dat',\n 'KP_p-3_n-60_ins-9.dat',\n 'KP_p-3_n-70_ins-1.dat',\n 'KP_p-3_n-70_ins-10.dat',\n 'KP_p-3_n-70_ins-2.dat',\n 'KP_p-3_n-70_ins-3.dat',\n 'KP_p-3_n-70_ins-4.dat',\n 'KP_p-3_n-70_ins-5.dat',\n 'KP_p-3_n-70_ins-6.dat',\n 'KP_p-3_n-70_ins-7.dat',\n 'KP_p-3_n-70_ins-8.dat',\n 'KP_p-3_n-70_ins-9.dat',\n 'KP_p-3_n-80_ins-1.dat',\n 'KP_p-3_n-80_ins-10.dat',\n 'KP_p-3_n-80_ins-2.dat',\n 'KP_p-3_n-80_ins-3.dat',\n 'KP_p-3_n-80_ins-4.dat',\n 'KP_p-3_n-80_ins-5.dat',\n 'KP_p-3_n-80_ins-6.dat',\n 'KP_p-3_n-80_ins-7.dat',\n 'KP_p-3_n-80_ins-8.dat',\n 'KP_p-3_n-80_ins-9.dat',\n 'KP_p-3_n-90_ins-1.dat',\n 'KP_p-3_n-90_ins-10.dat',\n 'KP_p-3_n-90_ins-2.dat',\n 'KP_p-3_n-90_ins-3.dat',\n 'KP_p-3_n-90_ins-4.dat',\n 'KP_p-3_n-90_ins-5.dat',\n 'KP_p-3_n-90_ins-6.dat',\n 'KP_p-3_n-90_ins-7.dat',\n 'KP_p-3_n-90_ins-8.dat',\n 'KP_p-3_n-90_ins-9.dat',\n 'KP_p-4_n-10_ins-1.dat',\n 'KP_p-4_n-10_ins-10.dat',\n 'KP_p-4_n-10_ins-2.dat',\n 'KP_p-4_n-10_ins-3.dat',\n 'KP_p-4_n-10_ins-4.dat',\n 'KP_p-4_n-10_ins-5.dat',\n 'KP_p-4_n-10_ins-6.dat',\n 'KP_p-4_n-10_ins-7.dat',\n 'KP_p-4_n-10_ins-8.dat',\n 'KP_p-4_n-10_ins-9.dat',\n 'KP_p-4_n-20_ins-1.dat',\n 'KP_p-4_n-20_ins-10.dat',\n 'KP_p-4_n-20_ins-2.dat',\n 'KP_p-4_n-20_ins-3.dat',\n 'KP_p-4_n-20_ins-4.dat',\n 'KP_p-4_n-20_ins-5.dat',\n 'KP_p-4_n-20_ins-6.dat',\n 'KP_p-4_n-20_ins-7.dat',\n 'KP_p-4_n-20_ins-8.dat',\n 'KP_p-4_n-20_ins-9.dat',\n 'KP_p-4_n-30_ins-1.dat',\n 'KP_p-4_n-30_ins-10.dat',\n 'KP_p-4_n-30_ins-2.dat',\n 'KP_p-4_n-30_ins-3.dat',\n 'KP_p-4_n-30_ins-4.dat',\n 'KP_p-4_n-30_ins-5.dat',\n 'KP_p-4_n-30_ins-6.dat',\n 'KP_p-4_n-30_ins-7.dat',\n 'KP_p-4_n-30_ins-8.dat',\n 'KP_p-4_n-30_ins-9.dat',\n 'KP_p-4_n-40_ins-1.dat',\n 'KP_p-4_n-40_ins-10.dat',\n 'KP_p-4_n-40_ins-2.dat',\n 'KP_p-4_n-40_ins-3.dat',\n 'KP_p-4_n-40_ins-4.dat',\n 'KP_p-4_n-40_ins-5.dat',\n 'KP_p-4_n-40_ins-6.dat',\n 'KP_p-4_n-40_ins-7.dat',\n 'KP_p-4_n-40_ins-8.dat',\n 'KP_p-4_n-40_ins-9.dat',\n 'KP_p-5_n-10_ins-1.dat',\n 'KP_p-5_n-10_ins-10.dat',\n 'KP_p-5_n-10_ins-2.dat',\n 'KP_p-5_n-10_ins-3.dat',\n 'KP_p-5_n-10_ins-4.dat',\n 'KP_p-5_n-10_ins-5.dat',\n 'KP_p-5_n-10_ins-6.dat',\n 'KP_p-5_n-10_ins-7.dat',\n 'KP_p-5_n-10_ins-8.dat',\n 'KP_p-5_n-10_ins-9.dat',\n 'KP_p-5_n-20_ins-1.dat',\n 'KP_p-5_n-20_ins-10.dat',\n 'KP_p-5_n-20_ins-2.dat',\n 'KP_p-5_n-20_ins-3.dat',\n 'KP_p-5_n-20_ins-4.dat',\n 'KP_p-5_n-20_ins-5.dat',\n 'KP_p-5_n-20_ins-6.dat',\n 'KP_p-5_n-20_ins-7.dat',\n 'KP_p-5_n-20_ins-8.dat',\n 'KP_p-5_n-20_ins-9.dat']"
     },
     "execution_count": 34,
     "metadata": {},
     "output_type": "execute_result"
    }
   ],
   "source": [
    "from benchmark.read import list_benchmarks, read_kp_benchmark\n",
    "\n",
    "list_benchmarks('kp')"
   ],
   "metadata": {
    "collapsed": false
   }
  },
  {
   "cell_type": "code",
   "execution_count": 35,
   "outputs": [
    {
     "name": "stdout",
     "output_type": "stream",
     "text": [
      "Number of objective functions (p) : 3\n",
      "Number of objects (n) : 10\n",
      "Capacity of the knapsack (W) : 2263\n",
      "Profits of the objects in each objective function : [[895 629 105 976 672 508  16 216 235 192]\n",
      " [431 548  16  39  25 922 521 648  92 522]\n",
      " [541 131  57 964 385 866 379 662 508 562]]\n",
      "Weights of the objects (w) [665 402 191 769 378 862 277 394  77 512]\n"
     ]
    }
   ],
   "source": [
    "kp_params_dict = read_kp_benchmark(p=3, n=10, instance=5)\n",
    "\n",
    "N_OBJECTIVE_FUNCTIONS: int = kp_params_dict[\"n_objective_functions\"]\n",
    "N_OBJECTS: int = kp_params_dict[\"n_objects\"]\n",
    "MAX_WEIGHT_CONSTRAINT: int = kp_params_dict[\"max_weight_constraint\"]\n",
    "PROFITS_MATRIX: np.ndarray = kp_params_dict[\"profits_matrix\"]\n",
    "OBJECTS_WEIGHTS: np.ndarray = kp_params_dict[\"objects_weights\"]"
   ],
   "metadata": {
    "collapsed": false
   }
  },
  {
   "cell_type": "markdown",
   "source": [
    "## Individual + Population"
   ],
   "metadata": {
    "collapsed": false
   }
  },
  {
   "cell_type": "code",
   "execution_count": 36,
   "outputs": [
    {
     "name": "stdout",
     "output_type": "stream",
     "text": [
      "[1. 1. 1. 1. 1. 0. 0. 1. 1. 1.]\n"
     ]
    },
    {
     "data": {
      "text/plain": "(array([0, 1, 2, 3, 4, 7, 8, 9], dtype=int64),)"
     },
     "execution_count": 36,
     "metadata": {},
     "output_type": "execute_result"
    }
   ],
   "source": [
    "def init_individual(size: int):\n",
    "    return np.random.choice([0.0, 1.0], size=(size,))\n",
    "\n",
    "\n",
    "test_ind = init_individual(N_OBJECTS)\n",
    "print(test_ind)\n",
    "\n",
    "test_ind.nonzero()"
   ],
   "metadata": {
    "collapsed": false
   }
  },
  {
   "cell_type": "code",
   "execution_count": 37,
   "outputs": [
    {
     "data": {
      "text/plain": "array([[1., 0., 0., 0., 1., 0., 0., 1., 1., 0.],\n       [0., 1., 0., 1., 0., 1., 1., 1., 0., 0.],\n       [1., 0., 1., 0., 1., 1., 0., 0., 1., 1.],\n       [1., 0., 1., 1., 0., 0., 1., 0., 0., 1.],\n       [1., 0., 0., 1., 0., 0., 1., 1., 1., 1.],\n       [0., 1., 1., 1., 1., 1., 0., 1., 0., 0.],\n       [1., 1., 1., 1., 0., 1., 0., 1., 1., 1.],\n       [0., 1., 0., 0., 0., 0., 0., 0., 1., 0.],\n       [0., 1., 0., 0., 1., 0., 1., 0., 0., 1.],\n       [0., 1., 0., 1., 0., 1., 1., 0., 1., 1.]])"
     },
     "execution_count": 37,
     "metadata": {},
     "output_type": "execute_result"
    }
   ],
   "source": [
    "def init_population(size: int, individual_size: int):\n",
    "    return [init_individual(individual_size) for _ in range(size)]\n",
    "\n",
    "\n",
    "test_pop = init_population(10, N_OBJECTS)\n",
    "np.array(test_pop)"
   ],
   "metadata": {
    "collapsed": false
   }
  },
  {
   "cell_type": "markdown",
   "source": [],
   "metadata": {
    "collapsed": false
   }
  },
  {
   "cell_type": "markdown",
   "source": [
    "## Fitness"
   ],
   "metadata": {
    "collapsed": false
   }
  },
  {
   "cell_type": "code",
   "execution_count": 82,
   "outputs": [
    {
     "name": "stdout",
     "output_type": "stream",
     "text": [
      "[0. 0. 0. 0. 1. 1. 0. 1. 0. 1.]\n",
      "22.841981587944737\n"
     ]
    },
    {
     "data": {
      "text/plain": "array([1588., 2117., 2475.])"
     },
     "execution_count": 82,
     "metadata": {},
     "output_type": "execute_result"
    }
   ],
   "source": [
    "def fitness_objectives(individual: np.ndarray, profits_matrix: np.ndarray) -> np.ndarray:\n",
    "    \"\"\"\n",
    "    Calcule les valeurs de fitness pour chaque objectif d'un individu pour le problème du knapsack multi-objectif.\n",
    "\n",
    "    :param individu: un tableau numpy de 0 et 1 représentant les objets sélectionnés pour le sac à dos.\n",
    "    :param profits_matrix: un tableau numpy de dimensions (p, n) représentant les profits de chaque objet pour chaque objectif.\n",
    "    :return: un tableau numpy de dimensions (p,) représentant les valeurs de fitness pour chaque objectif.\n",
    "    \"\"\"\n",
    "    # Calcule la valeur de fitness pour chaque objectif\n",
    "    fitness_values = np.sum(profits_matrix * individual, axis=1)  #todo : t'es sure ? demande au prof\n",
    "\n",
    "    # change all zero to 1e-100\n",
    "    fitness_values[fitness_values == 0] = 1e-100\n",
    "    return fitness_values\n",
    "\n",
    "\n",
    "def fitness(individual: np.ndarray, profits_matrix: np.ndarray) -> float:\n",
    "    \"\"\"\n",
    "    Calcule la valeur de fitness d'un individu pour le problème du knapsack multi-objectif.\n",
    "\n",
    "    :param individu: un tableau numpy de 0 et 1 représentant les objets sélectionnés pour le sac à dos.\n",
    "    :param profits_matrix: un tableau numpy de dimensions (p, n) représentant les profits de chaque objet pour chaque objectif.\n",
    "    :return: un float représentant la valeur de fitness.\n",
    "    \"\"\"\n",
    "    # Calcule la valeur de fitness pour chaque objectif\n",
    "    fitness_values = fitness_objectives(individual, profits_matrix)\n",
    "    # Calcule la valeur de fitness totale : sum(ln(fitness_values))\n",
    "    # on utilise log pour éviter les valeurs trop grandes, mettre tout sur la même échelle entre gullemnt\n",
    "\n",
    "    return np.sum(np.log(fitness_values))\n",
    "\n",
    "print(test_ind)\n",
    "print(fitness(test_ind, PROFITS_MATRIX))\n",
    "fitness_objectives(test_ind, PROFITS_MATRIX)"
   ],
   "metadata": {
    "collapsed": false
   }
  },
  {
   "cell_type": "code",
   "execution_count": 102,
   "outputs": [
    {
     "name": "stdout",
     "output_type": "stream",
     "text": [
      "[1. 1. 1. 1. 0. 1. 0. 0. 1. 0.] 23.769192581883015\n",
      "[1. 1. 0. 0. 0. 1. 0. 1. 0. 1.] 23.753222172697306\n",
      "[1. 1. 1. 0. 1. 0. 0. 1. 0. 1.] 23.353042806927654\n",
      "[0. 0. 0. 1. 0. 1. 1. 0. 1. 1.] 23.306799490699948\n",
      "[1. 1. 0. 0. 1. 1. 0. 0. 0. 0.] 23.027329775109706\n",
      "[0. 0. 1. 1. 1. 0. 0. 1. 0. 1.] 22.683964311975043\n",
      "[0. 0. 1. 1. 0. 1. 0. 0. 0. 1.] 22.600918838344427\n",
      "[1. 0. 0. 1. 1. 0. 1. 0. 0. 0.] 22.498094949078055\n",
      "[0. 0. 0. 1. 0. 1. 0. 0. 1. 0.] 22.165947659548838\n",
      "[1. 1. 0. 1. 0. 0. 0. 0. 0. 0.] 22.149650725129455\n"
     ]
    }
   ],
   "source": [
    "# sort by fitness\n",
    "def sort_population(population: List[np.ndarray], profits_matrix: np.ndarray, descending=True) -> List[np.ndarray]:\n",
    "    \"\"\"\n",
    "    Trie une population par fitness décroissant.\n",
    "    \"\"\"\n",
    "\n",
    "    return sorted(population, key=lambda individual: fitness(individual, profits_matrix), reverse=True if descending else False)\n",
    "\n",
    "test_pop = init_population(10, N_OBJECTS)\n",
    "\n",
    "for ind in sort_population(test_pop, PROFITS_MATRIX):\n",
    "    print(ind, fitness(ind, PROFITS_MATRIX))"
   ],
   "metadata": {
    "collapsed": false
   }
  },
  {
   "cell_type": "markdown",
   "source": [
    "## Faisability & Repare"
   ],
   "metadata": {
    "collapsed": false
   }
  },
  {
   "cell_type": "code",
   "execution_count": 39,
   "outputs": [
    {
     "name": "stdout",
     "output_type": "stream",
     "text": [
      "2263\n"
     ]
    },
    {
     "data": {
      "text/plain": "(False, 3388.0)"
     },
     "execution_count": 39,
     "metadata": {},
     "output_type": "execute_result"
    }
   ],
   "source": [
    "def faisability(individual: np.ndarray, objects_weights: np.ndarray, capacity_constraint: int) -> Tuple[bool, int]:\n",
    "    \"\"\"\n",
    "    Calcule la faisabilité d'un individu pour le problème du knapsack multi-objectif.\n",
    "    \"\"\"\n",
    "\n",
    "    sum_knapsack_weights = np.sum(individual * objects_weights)\n",
    "    if sum_knapsack_weights > capacity_constraint:\n",
    "        return False, sum_knapsack_weights\n",
    "    return True, sum_knapsack_weights\n",
    "\n",
    "\n",
    "print(MAX_WEIGHT_CONSTRAINT)\n",
    "faisability(test_ind, objects_weights=OBJECTS_WEIGHTS, capacity_constraint=MAX_WEIGHT_CONSTRAINT)"
   ],
   "metadata": {
    "collapsed": false
   }
  },
  {
   "cell_type": "code",
   "execution_count": 40,
   "outputs": [
    {
     "name": "stdout",
     "output_type": "stream",
     "text": [
      "[0. 1. 0. 0. 1. 1. 0. 1. 0. 1.] (False, 2548.0)\n",
      "[0. 0. 0. 0. 1. 1. 0. 1. 0. 1.] (True, 2146.0)\n"
     ]
    }
   ],
   "source": [
    "def repare(individual, objects_weights, capacity_constraint):\n",
    "    individual = individual.copy()\n",
    "    if indexes := list(individual.nonzero()[0]):\n",
    "        while not faisability(individual, objects_weights, capacity_constraint)[0]:\n",
    "            # choisir un élement du sac\n",
    "            index = random.choice(indexes)\n",
    "            # le retirer du sac\n",
    "            individual[index] = 0\n",
    "            # le retirer de la liste des index\n",
    "            indexes.remove(index)\n",
    "    #else:\n",
    "    #    individual[random.randint(0, len(individual) - 1)] = 1\n",
    "    return individual  # mm si ça marche sans retourner\n",
    "\n",
    "\n",
    "test_ind = init_individual(N_OBJECTS)\n",
    "print(test_ind, faisability(test_ind, objects_weights=OBJECTS_WEIGHTS, capacity_constraint=MAX_WEIGHT_CONSTRAINT))\n",
    "test_ind = repare(test_ind, objects_weights=OBJECTS_WEIGHTS, capacity_constraint=MAX_WEIGHT_CONSTRAINT)\n",
    "print(test_ind, faisability(test_ind, objects_weights=OBJECTS_WEIGHTS, capacity_constraint=MAX_WEIGHT_CONSTRAINT))"
   ],
   "metadata": {
    "collapsed": false
   }
  },
  {
   "cell_type": "markdown",
   "source": [
    "## Vizualise population"
   ],
   "metadata": {
    "collapsed": false
   }
  },
  {
   "cell_type": "markdown",
   "source": [
    "### Print individual"
   ],
   "metadata": {
    "collapsed": false
   }
  },
  {
   "cell_type": "code",
   "execution_count": 41,
   "outputs": [
    {
     "name": "stdout",
     "output_type": "stream",
     "text": [
      "[0. 0. 0. 0. 1. 1. 0. 1. 0. 1.], fit=22.84, profits=[1588. 2117. 2475.], weight= 2146\n",
      "[1. 1. 1. 1. 1. 1. 1. 1. 1. 1.], fit=25.16, profits=[4444. 3764. 5055.], weight= 4527\n",
      "[1. 1. 0. 1. 1. 0. 1. 1. 0. 0.], fit=23.86, profits=[3404. 2212. 3062.], weight= 2885\n",
      "[1. 1. 1. 1. 0. 0. 0. 1. 0. 0.], fit=23.14, profits=[2821. 1682. 2355.], weight= 2421\n",
      "[0. 1. 1. 1. 1. 0. 0. 0. 1. 1.], fit=22.93, profits=[2809. 1242. 2607.], weight= 2329\n",
      "[1. 1. 1. 1. 0. 0. 1. 0. 0. 0.], fit=22.86, profits=[2621. 1555. 2072.], weight= 2304\n",
      "[1. 1. 1. 0. 0. 1. 0. 0. 0. 0.], fit=22.60, profits=[2137. 1917. 1595.], weight= 2120\n",
      "[1. 1. 0. 0. 0. 0. 0. 0. 0. 1.], fit=21.88, profits=[1716. 1501. 1234.], weight= 1579\n",
      "[1. 0. 0. 1. 0. 0. 0. 1. 1. 0.], fit=22.74, profits=[2322. 1210. 2675.], weight= 1905\n",
      "[1. 0. 1. 0. 1. 1. 1. 1. 1. 1.], fit=24.30, profits=[2839. 3177. 3960.], weight= 3356\n",
      "[1. 1. 0. 1. 0. 1. 0. 1. 0. 1.], fit=24.40, profits=[3416. 3110. 3726.], weight= 3604\n",
      "[1. 0. 1. 1. 1. 1. 0. 0. 1. 1.], fit=24.07, profits=[3583. 2047. 3883.], weight= 3454\n"
     ]
    }
   ],
   "source": [
    "def print_individual(individual: np.ndarray, profits_matrix: np.ndarray, objects_weights: np.ndarray, full_print_individual : bool = False, full_print_profits : bool = False) -> None:\n",
    "    \"\"\"\n",
    "    Print the individual and its fitness.\n",
    "    \"\"\"\n",
    "\n",
    "    if len(individual) <= 10 or full_print_individual:\n",
    "        str_individual = f\"{individual}, fit={fitness(individual, profits_matrix):>4.2f}\"\n",
    "    else:\n",
    "        str_individual = f\"{individual[:8]}...{individual[-2:]}, fit={fitness(individual, profits_matrix):>4.2f}\"\n",
    "    profits = fitness_objectives(individual, profits_matrix)\n",
    "    if len(profits) <= 5 or full_print_profits:\n",
    "        str_profits = f\", profits={str(profits):>19}\"\n",
    "    else:\n",
    "        str_profits = f\", profits={str(profits[:3])}...{str(profits[-2:]):>19}\"\n",
    "\n",
    "    str_total_weight = f\", weight={np.sum(individual * objects_weights):>5.0f}\"\n",
    "\n",
    "    print(str_individual + str_profits + str_total_weight)\n",
    "\n",
    "\n",
    "print_individual(test_ind, PROFITS_MATRIX, OBJECTS_WEIGHTS)\n",
    "print_individual(np.ones(N_OBJECTS), PROFITS_MATRIX, OBJECTS_WEIGHTS)\n",
    "\n",
    "for _ in range(10):\n",
    "    print_individual(init_individual(N_OBJECTS), PROFITS_MATRIX, OBJECTS_WEIGHTS)"
   ],
   "metadata": {
    "collapsed": false
   }
  },
  {
   "cell_type": "markdown",
   "source": [
    "### Plot population"
   ],
   "metadata": {
    "collapsed": false
   }
  },
  {
   "cell_type": "code",
   "execution_count": 42,
   "outputs": [
    {
     "data": {
      "text/plain": "<Figure size 700x600 with 6 Axes>",
      "image/png": "[encoded data removed]"
     },
     "metadata": {},
     "output_type": "display_data"
    }
   ],
   "source": [
    "def visualize_population(population: List[np.ndarray], profits_matrix: np.ndarray) -> None:\n",
    "    \"\"\"\n",
    "    Visualize a population of individuals in fitness space.\n",
    "    \"\"\"\n",
    "\n",
    "    dim = profits_matrix.shape[0]\n",
    "    display_second_plot = 2 <= dim <= 3\n",
    "\n",
    "    fig = plt.figure(figsize=(7, 4 if not display_second_plot else 6))\n",
    "    fig.suptitle(\"Pop size: \" + str(len(population)) + \", n_obj: \" + str(profits_matrix.shape[0]))\n",
    "\n",
    "    # Fitness distribution\n",
    "    ax = fig.add_subplot(2 if display_second_plot else 1, 2, 1)\n",
    "    fitnesses_agg = [fitness(ind, profits_matrix) for ind in population]\n",
    "    ax.hist(fitnesses_agg)\n",
    "    ax.set_title(\"Fitness aggr distribution\")\n",
    "\n",
    "    # Fitness boxplot\n",
    "    ax = fig.add_subplot(2 if display_second_plot else 1, 2, 2)\n",
    "    ax.boxplot(fitnesses_agg)\n",
    "    ax.set_title(\"Fitness aggr boxplot\")\n",
    "\n",
    "    # 3D Viz of fitness\n",
    "    if display_second_plot:\n",
    "        if dim == 3:\n",
    "            fitness_objectives_values = [fitness_objectives(ind, profits_matrix) for ind in population]\n",
    "            f1, f2, f3 = zip(*fitness_objectives_values)\n",
    "\n",
    "            ax = fig.add_subplot(2, 2, 3, projection='3d')\n",
    "            ax.view_init(15, 60)\n",
    "            scatter = ax.scatter(f1, f2, f3, c=fitnesses_agg, cmap='viridis', linewidth=0.5)\n",
    "            ax.set_title(\"Space of fitness objectives\")\n",
    "            ax.set_xlabel(\"f1\")\n",
    "            ax.set_ylabel(\"f2\")\n",
    "            ax.set_zlabel(\"f3\")\n",
    "            # add color bar (min value is 0)\n",
    "            cbar = fig.colorbar(scatter, shrink=0.7, aspect=10, extend='max')\n",
    "            cbar.ax.set_ylabel('Fitness', fontsize=8)\n",
    "            scatter.set_clim(vmin=0)\n",
    "\n",
    "\n",
    "            ax = fig.add_subplot(2, 2, 4, projection='3d')\n",
    "            ax.view_init(90, 90 * 3)\n",
    "            scatter = ax.scatter(f1, f2, f3, c=fitnesses_agg, cmap='viridis', linewidth=0.5)\n",
    "            #ax.set_title(\"Space of fitness objectives\")\n",
    "            ax.set_xlabel(\"f1\")\n",
    "            ax.set_ylabel(\"f2\")\n",
    "            ax.set_zlabel(\"f3\")\n",
    "            # add color bar (min value is 0)\n",
    "            cbar = fig.colorbar(scatter, shrink=0.7, aspect=10, extend='max')\n",
    "            cbar.ax.set_ylabel('Fitness', fontsize=8)\n",
    "\n",
    "            scatter.set_clim(vmin=0)\n",
    "\n",
    "        elif dim == 2:\n",
    "            fitness_objectives_values = [fitness_objectives(ind, profits_matrix) for ind in population]\n",
    "\n",
    "            f1, f2 = zip(*fitness_objectives_values)\n",
    "\n",
    "            ax = fig.add_subplot(2, 2, 3)\n",
    "            scatter = ax.scatter(f1, f2, c=fitnesses_agg, cmap='viridis', linewidth=0.5)\n",
    "            ax.set_title(\"Space of fitness objectives\")\n",
    "            ax.set_xlabel(\"f1\")\n",
    "            ax.set_ylabel(\"f2\")\n",
    "\n",
    "            ax = fig.add_subplot(2, 2, 4)\n",
    "            scatter = ax.scatter(f1, f2, c=fitnesses_agg, cmap='viridis', linewidth=0.5)\n",
    "            #ax.set_title(\"Space of fitness objectives\")\n",
    "            ax.set_xlabel(\"f1\")\n",
    "            ax.set_ylabel(\"f2\")\n",
    "\n",
    "            # add color bar\n",
    "            fig.colorbar(scatter, ax=ax, shrink=0.7, aspect=10, label=\"Fitness aggregate (energy)\")\n",
    "\n",
    "    fig.tight_layout(h_pad=2.5)\n",
    "    plt.show()\n",
    "\n",
    "\n",
    "test_pop = init_population(500, N_OBJECTS)\n",
    "visualize_population(test_pop, PROFITS_MATRIX)"
   ],
   "metadata": {
    "collapsed": false
   }
  },
  {
   "cell_type": "markdown",
   "source": [
    "## Compare"
   ],
   "metadata": {
    "collapsed": false
   }
  },
  {
   "cell_type": "markdown",
   "source": [
    "### Diversity"
   ],
   "metadata": {
    "collapsed": false
   }
  },
  {
   "cell_type": "code",
   "execution_count": 43,
   "outputs": [
    {
     "name": "stdout",
     "output_type": "stream",
     "text": [
      "Diversity:  5.004242424242424\n",
      "Percent diversity:  0.5004242424242425\n"
     ]
    }
   ],
   "source": [
    "def count_diff(x1: np.ndarray, x2: np.ndarray) -> int:\n",
    "    \"\"\"\n",
    "    Return the number of differences between x1 and x2.\n",
    "    \"\"\"\n",
    "    if len(x1) != len(x2):\n",
    "        raise ValueError(\"x1 and x2 must have the same length\")\n",
    "    return np.sum(x1 != x2)\n",
    "\n",
    "\n",
    "def percent_diff(x1: np.ndarray, x2: np.ndarray) -> float:\n",
    "    \"\"\"\n",
    "    Return the percentage of differences between x1 and x2.\n",
    "    \"\"\"\n",
    "    return count_diff(x1, x2) / len(x1)\n",
    "\n",
    "\n",
    "def diversity(population: List[np.ndarray]) -> float:\n",
    "    \"\"\"\n",
    "    Return the average number of differences between individuals in the population.\n",
    "    \"\"\"\n",
    "    n = len(population)\n",
    "    return np.sum([count_diff(population[i], population[j]) for i in range(n) for j in range(i + 1, n)]) / (\n",
    "                n * (n - 1) / 2)\n",
    "\n",
    "\n",
    "def percent_diversity(population: List[np.ndarray]) -> float:\n",
    "    \"\"\"\n",
    "    Return the average percentage of differences between individuals in the population.\n",
    "    \"\"\"\n",
    "    n = len(population)\n",
    "    return np.sum([percent_diff(population[i], population[j]) for i in range(n) for j in range(i + 1, n)]) / (\n",
    "                n * (n - 1) / 2)\n",
    "\n",
    "\n",
    "test_pop = [init_individual(N_OBJECTS) for _ in range(100)]\n",
    "print(\"Diversity: \", diversity(test_pop))\n",
    "print(\"Percent diversity: \", percent_diversity(test_pop))"
   ],
   "metadata": {
    "collapsed": false
   }
  },
  {
   "cell_type": "markdown",
   "source": [
    "### Best individual"
   ],
   "metadata": {
    "collapsed": false
   }
  },
  {
   "cell_type": "code",
   "execution_count": 44,
   "outputs": [
    {
     "name": "stdout",
     "output_type": "stream",
     "text": [
      "[0. 1. 0. 1. 1. 1. 0. 1. 1. 0.], fit=23.98, profits=[3236. 2274. 3516.], weight= 2882\n",
      "[1. 1. 1. 0. 0. 1. 1. 0. 0. 1.], fit=23.59, profits=[2345. 2960. 2536.], weight= 2909\n",
      "True\n"
     ]
    },
    {
     "data": {
      "text/plain": "19.156351087225083"
     },
     "execution_count": 44,
     "metadata": {},
     "output_type": "execute_result"
    }
   ],
   "source": [
    "def is_better(x1: np.ndarray, x2: np.ndarray, profits_matrix: np.ndarray) -> bool:\n",
    "    \"\"\"\n",
    "    Return True if x1 is better than x2, and delta is the difference between the two fitness values.\n",
    "    \"\"\"\n",
    "    fitness_x1 = fitness(x1, profits_matrix)\n",
    "    fitness_x2 = fitness(x2, profits_matrix)\n",
    "    return fitness_x1 > fitness_x2\n",
    "\n",
    "\n",
    "def max_individual(x1: np.ndarray, x2: np.ndarray, profits_matrix: np.ndarray) -> np.ndarray:\n",
    "    \"\"\"\n",
    "    Return the best individual between x1 and x2.\n",
    "    \"\"\"\n",
    "    return x1 if is_better(x1, x2, profits_matrix) else x2\n",
    "\n",
    "\n",
    "x1 = init_individual(N_OBJECTS)\n",
    "x2 = init_individual(N_OBJECTS)\n",
    "print_individual(x1, PROFITS_MATRIX, OBJECTS_WEIGHTS)\n",
    "print_individual(x2, PROFITS_MATRIX, OBJECTS_WEIGHTS)\n",
    "print(is_better(x1, x2, PROFITS_MATRIX))\n",
    "\n",
    "z = np.zeros(N_OBJECTS)\n",
    "z[0] = 1\n",
    "fitness(z, PROFITS_MATRIX)"
   ],
   "metadata": {
    "collapsed": false
   }
  },
  {
   "cell_type": "code",
   "execution_count": 45,
   "outputs": [
    {
     "name": "stdout",
     "output_type": "stream",
     "text": [
      "[0. 1. 0. 0. 1. 1. 1. 0. 0. 0.] 22.591843003704057\n",
      "[0. 1. 0. 0. 1. 1. 1. 1. 1. 1.] 24.064668389135882\n",
      "[1. 1. 1. 0. 0. 1. 1. 0. 1. 1.] 23.90002478930159\n",
      "[0. 0. 0. 1. 0. 1. 1. 0. 1. 1.] 23.306799490699948\n",
      "[0. 0. 1. 1. 0. 1. 1. 1. 0. 1.] 23.654122847871776\n",
      "[1. 0. 0. 1. 0. 0. 0. 1. 1. 0.] 22.74026446017873\n",
      "[1. 0. 1. 1. 1. 0. 0. 1. 0. 0.] 22.882009656557017\n",
      "[1. 1. 0. 1. 0. 1. 1. 0. 1. 0.] 24.062490267686098\n",
      "[1. 0. 0. 0. 1. 1. 0. 0. 0. 1.] 23.039693103482282\n",
      "[1. 1. 1. 0. 1. 0. 1. 1. 0. 1.] 23.722580166022357\n",
      "---\n",
      "best [0. 1. 0. 0. 1. 1. 1. 1. 1. 1.] 24.064668389135882\n",
      "bests 3\n",
      "[0. 1. 0. 0. 1. 1. 1. 1. 1. 1.] 24.064668389135882\n",
      "[1. 1. 0. 1. 0. 1. 1. 0. 1. 0.] 24.062490267686098\n",
      "[1. 1. 1. 0. 0. 1. 1. 0. 1. 1.] 23.90002478930159\n"
     ]
    }
   ],
   "source": [
    "def get_best_individual(population: List[np.ndarray], profits_matrix: np.ndarray) -> np.ndarray:\n",
    "    \"\"\"\n",
    "    Return the best individual in the population.\n",
    "    \"\"\"\n",
    "    return reduce(partial(max_individual, profits_matrix=profits_matrix), population)\n",
    "\n",
    "\n",
    "def get_best_individuals(population: List[np.ndarray], profits_matrix: np.ndarray, n_best: int) -> List[np.ndarray]:\n",
    "    \"\"\"\n",
    "    Return the n best individuals in the population.\n",
    "    \"\"\"\n",
    "    return sorted(population, key=partial(fitness, profits_matrix=profits_matrix), reverse=True)[:n_best]\n",
    "\n",
    "\n",
    "test_pop = init_population(10, N_OBJECTS)\n",
    "for ind in test_pop:\n",
    "    print(ind, fitness(ind, PROFITS_MATRIX))\n",
    "\n",
    "print(\"---\")\n",
    "best_ind_test = get_best_individual(test_pop, PROFITS_MATRIX)\n",
    "print(\"best\", best_ind_test, fitness(best_ind_test, PROFITS_MATRIX))\n",
    "print(\"bests 3\")\n",
    "for ind in get_best_individuals(test_pop, PROFITS_MATRIX, 3):\n",
    "    print(ind, fitness(ind, PROFITS_MATRIX))"
   ],
   "metadata": {
    "collapsed": false
   }
  },
  {
   "cell_type": "markdown",
   "source": [
    "### Dominance"
   ],
   "metadata": {
    "collapsed": false
   }
  },
  {
   "cell_type": "code",
   "execution_count": 46,
   "outputs": [
    {
     "name": "stdout",
     "output_type": "stream",
     "text": [
      "[0. 1. 1. 0. 1. 1. 1. 0. 1. 1.], fit=23.61, profits=[2357. 2646. 2888.], weight= 2699\n",
      "[1. 0. 1. 0. 0. 0. 1. 1. 1. 0.], fit=22.41, profits=[1467. 1708. 2147.], weight= 1604\n"
     ]
    },
    {
     "data": {
      "text/plain": "1"
     },
     "execution_count": 46,
     "metadata": {},
     "output_type": "execute_result"
    }
   ],
   "source": [
    "def dominance_compare(x1: np.ndarray, x2: np.ndarray, profits_matrix: np.ndarray) -> bool:\n",
    "    \"\"\"\n",
    "    Return 1 if x1 dominates x2, -1 if x2 dominates x1, and 0 if x1 and x2 are non-dominated.\n",
    "    \"\"\"\n",
    "    fitness_x1: np.ndarray = fitness_objectives(x1, profits_matrix)\n",
    "    fitness_x2: np.ndarray = fitness_objectives(x2, profits_matrix)\n",
    "\n",
    "    #print(fitness_x1 >= fitness_x2)\n",
    "    #print(fitness_x1 > fitness_x2)\n",
    "    #print(all(fitness_x1 >= fitness_x2))\n",
    "    #print(any(fitness_x1 > fitness_x2))\n",
    "\n",
    "    if all(fitness_x1 >= fitness_x2) and any(fitness_x1 > fitness_x2):\n",
    "        return 1\n",
    "    elif all(fitness_x1 <= fitness_x2) and any(fitness_x1 < fitness_x2):\n",
    "        return -1\n",
    "    return 0\n",
    "\n",
    "\n",
    "x1 = init_individual(N_OBJECTS)\n",
    "x2 = init_individual(N_OBJECTS)\n",
    "print_individual(x1, PROFITS_MATRIX, OBJECTS_WEIGHTS)\n",
    "print_individual(x2, PROFITS_MATRIX, OBJECTS_WEIGHTS)\n",
    "\n",
    "dominance_compare(x1, x2, PROFITS_MATRIX)\n",
    "dominance_compare(x1, np.zeros(N_OBJECTS), PROFITS_MATRIX)"
   ],
   "metadata": {
    "collapsed": false
   }
  },
  {
   "cell_type": "markdown",
   "source": [
    "#### Fast non-dominated sort"
   ],
   "metadata": {
    "collapsed": false
   }
  },
  {
   "cell_type": "code",
   "execution_count": 96,
   "outputs": [],
   "source": [
    "def fast_non_dominated_sort(population: List[np.ndarray], profits_matrix: np.ndarray) -> List[List[np.ndarray]]:\n",
    "    \"\"\"\n",
    "    Return the population sorted by non-dominated fronts.\n",
    "    \"\"\"\n",
    "\n",
    "    # create a dictionary to map individuals to their indices\n",
    "    population_dict = {tuple(individual): index for index, individual in enumerate(population)}\n",
    "\n",
    "    fronts: List[List[np.ndarray]] = [[]] # fronts[i] contains the individuals in the i-th front\n",
    "    dominated: List[List[np.ndarray]] = [[] for _ in range(len(population))] # individuals dominated by i\n",
    "    n_is_dominated: List[int] = [0 for _ in range(len(population))] # number of individuals that dominate i\n",
    "\n",
    "    for idx_i in range(len(population)):\n",
    "        for idx_j in range(idx_i + 1, len(population)):\n",
    "            comp = dominance_compare(population[idx_i], population[idx_j], profits_matrix)\n",
    "            if comp == 1: # i dominates j\n",
    "                dominated[idx_i].append(population[idx_j])\n",
    "                n_is_dominated[idx_j] += 1\n",
    "            elif comp == -1: # j dominates i\n",
    "                dominated[idx_j].append(population[idx_i])\n",
    "                n_is_dominated[idx_i] += 1\n",
    "\n",
    "    for i in range(len(population)):\n",
    "        if n_is_dominated[i] == 0:\n",
    "            fronts[0].append(population[i])\n",
    "\n",
    "    i = 0\n",
    "    while len(fronts[i]) > 0:\n",
    "        fronts.append([])\n",
    "        for p in fronts[i]: # for each individual in the i-th front\n",
    "            p_index = population_dict[tuple(p)] # get the index of p\n",
    "\n",
    "            # who is dominated by p?\n",
    "            for q in dominated[p_index]: # for each individual dominated by p\n",
    "                q_index = population_dict[tuple(q)] # get the index of q\n",
    "                n_is_dominated[q_index] -= 1 # decrease the number of individuals that dominate q\n",
    "\n",
    "                # if q is not dominated by anyone, add it to the next front\n",
    "                if n_is_dominated[q_index] == 0:\n",
    "                    fronts[i + 1].append(q)\n",
    "        i += 1\n",
    "\n",
    "    return fronts[:-1]\n",
    "\n",
    "test_pop = init_population(10, N_OBJECTS)\n",
    "for ind in test_pop:\n",
    "    print_individual(ind, PROFITS_MATRIX, OBJECTS_WEIGHTS)\n",
    "\n",
    "print(\"---\")\n",
    "fronts = fast_non_dominated_sort(test_pop, PROFITS_MATRIX)\n",
    "\n",
    "for i, front in enumerate(fronts):\n",
    "    print(f\"front {i}\")\n",
    "    for ind in front:\n",
    "        print_individual(ind, PROFITS_MATRIX, OBJECTS_WEIGHTS)\n",
    "\n"
   ],
   "metadata": {
    "collapsed": false
   }
  },
  {
   "cell_type": "markdown",
   "source": [
    "### Crowding distance"
   ],
   "metadata": {
    "collapsed": false
   }
  },
  {
   "cell_type": "code",
   "execution_count": 111,
   "outputs": [
    {
     "name": "stdout",
     "output_type": "stream",
     "text": [
      "[0. 0. 0. 1. 0. 1. 0. 0. 0. 1.], fit=22.51, profits=[1676. 1483. 2392.], weight= 2143\n",
      "[0. 1. 1. 1. 1. 0. 0. 0. 1. 1.], fit=22.93, profits=[2809. 1242. 2607.], weight= 2329\n",
      "[1. 1. 1. 0. 1. 1. 1. 0. 0. 1.], fit=23.99, profits=[3017. 2985. 2921.], weight= 3287\n",
      "[1. 1. 0. 1. 0. 1. 1. 0. 0. 1.], fit=24.22, profits=[3216. 2983. 3443.], weight= 3487\n",
      "[1. 1. 0. 1. 1. 1. 1. 0. 0. 0.], fit=24.12, profits=[3696. 2486. 3266.], weight= 3353\n",
      "[0. 1. 0. 1. 1. 0. 1. 0. 0. 0.], fit=22.30, profits=[2293. 1133. 1859.], weight= 1826\n",
      "[1. 1. 0. 0. 1. 1. 1. 1. 0. 0.], fit=24.02, profits=[2936. 3095. 2964.], weight= 2978\n",
      "[0. 1. 1. 1. 0. 0. 0. 0. 0. 0.], fit=20.90, profits=[1710.  603. 1152.], weight= 1362\n",
      "[1. 1. 1. 0. 1. 0. 0. 1. 1. 1.], fit=23.67, profits=[2944. 2282. 2846.], weight= 2619\n",
      "[1. 0. 1. 0. 1. 1. 0. 0. 1. 1.], fit=23.45, profits=[2607. 2008. 2919.], weight= 2685\n",
      "[1. 1. 0. 1. 1. 1. 0. 0. 0. 1.], fit=24.23, profits=[3872. 2487. 3449.], weight= 3588\n",
      "[0. 0. 0. 0. 0. 0. 0. 0. 1. 1.], fit=19.45, profits=[ 427.  614. 1070.], weight=  589\n",
      "[0. 1. 1. 1. 1. 0. 1. 1. 0. 1.], fit=23.74, profits=[2806. 2319. 3140.], weight= 2923\n",
      "[1. 1. 1. 1. 0. 1. 0. 1. 1. 0.], fit=24.30, profits=[3564. 2696. 3729.], weight= 3360\n",
      "[0. 1. 1. 0. 0. 1. 0. 1. 1. 0.], fit=22.85, profits=[1693. 2226. 2224.], weight= 1926\n",
      "[1. 1. 1. 0. 0. 1. 0. 1. 1. 0.], fit=23.67, profits=[2588. 2657. 2765.], weight= 2591\n",
      "[0. 0. 0. 0. 1. 0. 1. 0. 1. 0.], fit=20.43, profits=[ 923.  638. 1272.], weight=  732\n",
      "[1. 0. 1. 0. 1. 0. 0. 1. 0. 0.], fit=21.97, profits=[1888. 1120. 1645.], weight= 1628\n",
      "[0. 0. 1. 0. 1. 0. 0. 0. 0. 0.], fit=16.46, profits=   [777.  41. 442.], weight=  569\n",
      "[1. 1. 1. 1. 1. 1. 0. 0. 1. 1.], fit=24.50, profits=[4212. 2595. 4014.], weight= 3856\n",
      "[0. 0. 0. 1. 0. 1. 0. 0. 1. 0.], fit=22.17, profits=[1719. 1053. 2338.], weight= 1708\n",
      "[0. 0. 1. 1. 1. 1. 0. 0. 1. 0.], fit=22.75, profits=[2496. 1094. 2780.], weight= 2277\n",
      "[0. 0. 0. 1. 1. 0. 0. 1. 0. 1.], fit=22.60, profits=[2056. 1234. 2573.], weight= 2053\n",
      "[0. 0. 1. 1. 0. 0. 1. 1. 0. 0.], fit=21.92, profits=[1313. 1224. 2062.], weight= 1631\n",
      "[1. 1. 1. 1. 0. 0. 1. 0. 1. 1.], fit=23.76, profits=[3048. 2169. 3142.], weight= 2893\n",
      "--------------------------------------------------\n",
      "front 0\n",
      "[1. 1. 1. 0. 1. 1. 1. 0. 0. 1.], fit=23.99, profits=[3017. 2985. 2921.], weight= 3287\n",
      "[1. 1. 0. 1. 0. 1. 1. 0. 0. 1.], fit=24.22, profits=[3216. 2983. 3443.], weight= 3487\n",
      "[1. 1. 0. 0. 1. 1. 1. 1. 0. 0.], fit=24.02, profits=[2936. 3095. 2964.], weight= 2978\n",
      "[1. 1. 1. 1. 0. 1. 0. 1. 1. 0.], fit=24.30, profits=[3564. 2696. 3729.], weight= 3360\n",
      "[1. 1. 1. 1. 1. 1. 0. 0. 1. 1.], fit=24.50, profits=[4212. 2595. 4014.], weight= 3856\n",
      "front 1\n",
      "[1. 1. 1. 0. 0. 1. 0. 1. 1. 0.], fit=23.67, profits=[2588. 2657. 2765.], weight= 2591\n",
      "[1. 1. 0. 1. 1. 1. 0. 0. 0. 1.], fit=24.23, profits=[3872. 2487. 3449.], weight= 3588\n",
      "front 2\n",
      "[1. 1. 0. 1. 1. 1. 1. 0. 0. 0.], fit=24.12, profits=[3696. 2486. 3266.], weight= 3353\n",
      "front 3\n",
      "[1. 1. 1. 0. 1. 0. 0. 1. 1. 1.], fit=23.67, profits=[2944. 2282. 2846.], weight= 2619\n",
      "[0. 1. 1. 1. 1. 0. 1. 1. 0. 1.], fit=23.74, profits=[2806. 2319. 3140.], weight= 2923\n",
      "[1. 1. 1. 1. 0. 0. 1. 0. 1. 1.], fit=23.76, profits=[3048. 2169. 3142.], weight= 2893\n",
      "front 4\n",
      "[0. 1. 1. 0. 0. 1. 0. 1. 1. 0.], fit=22.85, profits=[1693. 2226. 2224.], weight= 1926\n",
      "[0. 1. 1. 1. 1. 0. 0. 0. 1. 1.], fit=22.93, profits=[2809. 1242. 2607.], weight= 2329\n",
      "[1. 0. 1. 0. 1. 1. 0. 0. 1. 1.], fit=23.45, profits=[2607. 2008. 2919.], weight= 2685\n",
      "front 5\n",
      "[0. 0. 0. 1. 0. 1. 0. 0. 0. 1.], fit=22.51, profits=[1676. 1483. 2392.], weight= 2143\n",
      "[0. 1. 0. 1. 1. 0. 1. 0. 0. 0.], fit=22.30, profits=[2293. 1133. 1859.], weight= 1826\n",
      "[0. 0. 1. 1. 1. 1. 0. 0. 1. 0.], fit=22.75, profits=[2496. 1094. 2780.], weight= 2277\n",
      "[0. 0. 0. 1. 1. 0. 0. 1. 0. 1.], fit=22.60, profits=[2056. 1234. 2573.], weight= 2053\n",
      "front 6\n",
      "[1. 0. 1. 0. 1. 0. 0. 1. 0. 0.], fit=21.97, profits=[1888. 1120. 1645.], weight= 1628\n",
      "[0. 0. 0. 1. 0. 1. 0. 0. 1. 0.], fit=22.17, profits=[1719. 1053. 2338.], weight= 1708\n",
      "[0. 0. 1. 1. 0. 0. 1. 1. 0. 0.], fit=21.92, profits=[1313. 1224. 2062.], weight= 1631\n",
      "front 7\n",
      "[0. 1. 1. 1. 0. 0. 0. 0. 0. 0.], fit=20.90, profits=[1710.  603. 1152.], weight= 1362\n",
      "[0. 0. 0. 0. 1. 0. 1. 0. 1. 0.], fit=20.43, profits=[ 923.  638. 1272.], weight=  732\n",
      "front 8\n",
      "[0. 0. 0. 0. 0. 0. 0. 0. 1. 1.], fit=19.45, profits=[ 427.  614. 1070.], weight=  589\n",
      "[0. 0. 1. 0. 1. 0. 0. 0. 0. 0.], fit=16.46, profits=   [777.  41. 442.], weight=  569\n",
      "--------------------------------------------------\n",
      "distance 0 : inf\n",
      "distance 1 : 1601.0\n",
      "distance 2 : inf\n",
      "distance 3 : 1955.0\n",
      "distance 4 : inf\n"
     ]
    }
   ],
   "source": [
    "def compare_individual_nsga2(ind1 : np.ndarray, ind2 : np.ndarray, profits_matrix: np.ndarray, objective : int) -> bool:\n",
    "    \"\"\"\n",
    "    Return True if ind1 dominates ind2, False otherwise.\n",
    "    \"\"\"\n",
    "    fitness_ind1: np.ndarray = fitness_objectives(ind1, profits_matrix)\n",
    "    fitness_ind2: np.ndarray = fitness_objectives(ind2, profits_matrix)\n",
    "\n",
    "    return fitness_ind1[objective] > fitness_ind2[objective]\n",
    "\n",
    "def crowding_distance(population: List[np.ndarray], profits_matrix: np.ndarray, n_objective_functions : int) -> List[float]:\n",
    "    \"\"\"\n",
    "    Return the crowding distance of each individual in the population.\n",
    "    \"\"\"\n",
    "    population_dict = {tuple(individual): index for index, individual in enumerate(population)}\n",
    "    distances: List[float] = [0 for _ in range(len(population))] # crowding distance of each individual\n",
    "\n",
    "    for objective in range(n_objective_functions):\n",
    "        # sort the population by the current objective\n",
    "        population = sorted(population, key=lambda ind: fitness_objectives(ind, profits_matrix)[objective])\n",
    "\n",
    "        # set the distance of the first and last individuals to infinity\n",
    "        distances[population_dict[tuple(population[0])]] = float(\"inf\")\n",
    "        distances[population_dict[tuple(population[-1])]] = float(\"inf\")\n",
    "\n",
    "        # compute the distance between each individual and its neighbors\n",
    "        for i in range(1, len(population) - 1):\n",
    "            distances[population_dict[tuple(population[i])]] += (\n",
    "                fitness_objectives(population[i + 1], profits_matrix)[objective]\n",
    "                - fitness_objectives(population[i - 1], profits_matrix)[objective]\n",
    "            )\n",
    "\n",
    "    return distances\n",
    "\n",
    "test_pop = init_population(25, N_OBJECTS)\n",
    "for ind in test_pop:\n",
    "    print_individual(ind, PROFITS_MATRIX, OBJECTS_WEIGHTS)\n",
    "\n",
    "print(\"-\"*50)\n",
    "\n",
    "fronts = fast_non_dominated_sort(test_pop, PROFITS_MATRIX)\n",
    "\n",
    "for i, front in enumerate(fronts):\n",
    "    print(f\"front {i}\")\n",
    "    for ind in front:\n",
    "        print_individual(ind, PROFITS_MATRIX, OBJECTS_WEIGHTS)\n",
    "\n",
    "print(\"-\"*50)\n",
    "\n",
    "distances = crowding_distance(fronts[0], PROFITS_MATRIX, N_OBJECTIVE_FUNCTIONS)\n",
    "for i, distance in enumerate(distances):\n",
    "    print(f\"distance {i} : {distance}\")"
   ],
   "metadata": {
    "collapsed": false
   }
  },
  {
   "cell_type": "markdown",
   "source": [
    "## Operators"
   ],
   "metadata": {
    "collapsed": false
   }
  },
  {
   "cell_type": "markdown",
   "source": [
    "### Selection\n",
    "\n",
    "New population selection process : select best fitted individuals among the\n",
    "parents and offsprings populations to retrieve an N individual population."
   ],
   "metadata": {
    "collapsed": false
   }
  },
  {
   "cell_type": "code",
   "execution_count": 55,
   "outputs": [],
   "source": [
    "test_pop = init_population(100, N_OBJECTS)"
   ],
   "metadata": {
    "collapsed": false
   }
  },
  {
   "cell_type": "markdown",
   "source": [
    "#### Random selection\n",
    "\n",
    "Select a certain percentage of individuals fully randomly."
   ],
   "metadata": {
    "collapsed": false
   }
  },
  {
   "cell_type": "code",
   "execution_count": 81,
   "outputs": [
    {
     "data": {
      "text/plain": "[array([1., 0., 1., 0., 0., 0., 0., 1., 1., 1.]),\n array([1., 1., 1., 1., 0., 0., 0., 0., 1., 1.]),\n array([1., 0., 0., 0., 0., 0., 0., 0., 0., 0.]),\n array([1., 1., 0., 0., 1., 1., 0., 1., 1., 0.]),\n array([1., 0., 0., 0., 1., 0., 0., 0., 1., 1.]),\n array([0., 1., 1., 1., 0., 1., 1., 0., 1., 0.]),\n array([0., 1., 0., 1., 0., 1., 0., 1., 1., 0.]),\n array([0., 1., 1., 0., 1., 1., 1., 1., 0., 1.]),\n array([0., 1., 1., 0., 1., 0., 0., 1., 0., 1.]),\n array([1., 1., 0., 1., 0., 1., 0., 0., 0., 0.]),\n array([1., 1., 1., 1., 1., 0., 1., 1., 0., 0.]),\n array([1., 0., 0., 1., 1., 1., 0., 0., 1., 0.]),\n array([1., 0., 1., 1., 0., 0., 1., 0., 0., 0.]),\n array([1., 1., 1., 1., 1., 1., 0., 0., 0., 1.]),\n array([1., 0., 1., 0., 0., 0., 1., 0., 0., 0.]),\n array([1., 0., 0., 0., 1., 0., 0., 1., 0., 0.]),\n array([0., 0., 0., 0., 1., 1., 0., 0., 0., 0.]),\n array([0., 0., 0., 0., 0., 0., 0., 0., 1., 0.]),\n array([0., 1., 1., 0., 0., 1., 0., 0., 0., 0.]),\n array([1., 1., 0., 0., 0., 1., 1., 0., 0., 1.]),\n array([1., 0., 0., 0., 1., 0., 0., 0., 1., 1.]),\n array([0., 1., 0., 0., 0., 1., 1., 1., 0., 0.]),\n array([0., 1., 1., 1., 0., 0., 1., 0., 1., 1.]),\n array([0., 0., 1., 0., 0., 1., 1., 1., 1., 1.]),\n array([0., 0., 1., 1., 1., 1., 0., 0., 1., 1.]),\n array([0., 1., 0., 0., 0., 1., 1., 1., 1., 0.]),\n array([0., 1., 0., 0., 0., 0., 0., 1., 1., 0.]),\n array([0., 1., 0., 1., 1., 1., 0., 1., 0., 1.]),\n array([0., 0., 0., 0., 1., 0., 1., 1., 0., 0.]),\n array([1., 1., 0., 1., 0., 0., 1., 0., 1., 1.]),\n array([0., 1., 0., 0., 0., 0., 0., 1., 1., 1.]),\n array([1., 0., 1., 0., 0., 0., 0., 0., 1., 1.]),\n array([0., 1., 0., 0., 1., 1., 1., 1., 1., 0.]),\n array([1., 0., 1., 1., 1., 1., 0., 1., 0., 0.]),\n array([1., 0., 0., 0., 0., 0., 1., 0., 1., 0.]),\n array([1., 0., 0., 0., 0., 1., 1., 1., 1., 0.]),\n array([1., 1., 1., 1., 1., 0., 1., 0., 1., 0.]),\n array([0., 0., 1., 1., 0., 1., 1., 0., 1., 1.]),\n array([0., 0., 0., 1., 0., 0., 1., 1., 1., 0.]),\n array([0., 0., 0., 1., 0., 0., 0., 0., 1., 0.])]"
     },
     "execution_count": 81,
     "metadata": {},
     "output_type": "execute_result"
    }
   ],
   "source": [
    "\n",
    "def selection_random(population: list, percentage: float = 0.1) -> list:\n",
    "    if percentage > 1 or percentage < 0:\n",
    "        raise ValueError(\"Percentage must be between 0 and 1.\")\n",
    "    return random.sample(population, int(len(population) * percentage))\n",
    "\n",
    "selection_random(test_pop, 0.4)"
   ],
   "metadata": {
    "collapsed": false
   }
  },
  {
   "cell_type": "markdown",
   "source": [
    "#### Tournament selection\n",
    "pick randomly a certain number of individuals, then select the one with the best fitness, then a new tournament ; it divides by ``individuals_per_tournament`` the population size."
   ],
   "metadata": {
    "collapsed": false
   }
  },
  {
   "cell_type": "code",
   "execution_count": 54,
   "outputs": [
    {
     "data": {
      "text/plain": "[array([1., 1., 1., 0., 1., 1., 1., 1., 0., 1.]),\n array([1., 1., 0., 1., 0., 1., 1., 1., 0., 1.]),\n array([1., 0., 1., 1., 1., 0., 1., 1., 1., 1.]),\n array([1., 1., 0., 1., 0., 1., 0., 1., 1., 0.]),\n array([1., 0., 1., 1., 1., 1., 1., 1., 1., 1.]),\n array([1., 1., 0., 1., 0., 1., 0., 1., 1., 0.]),\n array([1., 1., 1., 1., 1., 0., 1., 1., 0., 1.]),\n array([1., 1., 1., 0., 1., 1., 0., 1., 0., 1.]),\n array([0., 1., 0., 1., 1., 0., 1., 1., 0., 1.]),\n array([1., 0., 0., 1., 1., 1., 0., 1., 1., 0.])]"
     },
     "execution_count": 54,
     "metadata": {},
     "output_type": "execute_result"
    }
   ],
   "source": [
    "def chunk_split(l: list, chunk_size: int) -> list:\n",
    "    for i in range(0, len(l), chunk_size):\n",
    "        yield l[i:i + chunk_size]\n",
    "\n",
    "\n",
    "def battle(population: list, profits_matrix: np.ndarray) -> np.ndarray:\n",
    "    return get_best_individual(population, profits_matrix)\n",
    "\n",
    "\n",
    "def selection_tournament(population: list, profits_matrix: np.ndarray, individuals_per_tournament: int = 10) -> list:\n",
    "    random.shuffle(population) # shuffle the population for randomness\n",
    "    return [battle(tournament,profits_matrix)  for tournament in chunk_split(population, individuals_per_tournament)]\n",
    "\n",
    "\n",
    "selection_tournament(test_pop, PROFITS_MATRIX, 10)"
   ],
   "metadata": {
    "collapsed": false
   }
  },
  {
   "cell_type": "markdown",
   "source": [
    "#### Roulette wheel selection\n",
    "\n",
    "According to its fitness a good individual has much more chance to be\n",
    "selected.\n",
    "\n"
   ],
   "metadata": {
    "collapsed": false
   }
  },
  {
   "cell_type": "code",
   "execution_count": 63,
   "outputs": [
    {
     "name": "stdout",
     "output_type": "stream",
     "text": [
      "100\n",
      "50\n"
     ]
    }
   ],
   "source": [
    "def selection_roulette_wheel(population: list, profits_matrix: np.ndarray, percentage: float = 0.5) -> list:\n",
    "    # sort population, best first (max fitness)\n",
    "    population = sorted(population, key=partial(fitness, profits_matrix=profits_matrix), reverse=True)\n",
    "    # compute cumulative probabilities\n",
    "    fitnesses = np.array([fitness(individual, profits_matrix) for individual in population])\n",
    "    probabilities = fitnesses / np.sum(fitnesses)\n",
    "\n",
    "    # select individuals\n",
    "    return random.choices(population, weights=probabilities, k=int(len(population) * percentage))\n",
    "\n",
    "\n",
    "\n",
    "print(len(test_pop))\n",
    "tmp = selection_roulette_wheel(test_pop, PROFITS_MATRIX)\n",
    "print(len(tmp))"
   ],
   "metadata": {
    "collapsed": false
   }
  },
  {
   "cell_type": "markdown",
   "source": [
    "### Crossover\n",
    "Crossing operator : generate offsprings, mixing the genes of each parent;\n",
    "\n",
    "Many more crossover techniques in the litterature (here) ;\n"
   ],
   "metadata": {
    "collapsed": false
   }
  },
  {
   "cell_type": "code",
   "execution_count": 65,
   "outputs": [
    {
     "name": "stdout",
     "output_type": "stream",
     "text": [
      "[1. 1. 1. 0. 0. 1. 0. 1. 0. 1.], fit=23.82, profits=[2545. 3087. 2819.], weight= 3026\n",
      "[1. 0. 0. 1. 0. 1. 1. 1. 0. 1.], fit=24.26, profits=[2803. 3083. 3974.], weight= 3479\n",
      "[1. 1. 1. 0. 0. 1. 0. 1. 0. 1.], fit=23.82, profits=[2545. 3087. 2819.], weight= 3026\n",
      "[1. 0. 0. 1. 0. 1. 1. 1. 0. 1.], fit=24.26, profits=[2803. 3083. 3974.], weight= 3479\n"
     ]
    }
   ],
   "source": [
    "def crossover(ind1 : np.ndarray, ind2 : np.ndarray, crossover_rate : float = 0.5, n_points_crossing : int = 1) ->  Tuple[np.ndarray]:\n",
    "    \"\"\"\n",
    "    Crossover two individuals.\n",
    "    \"\"\"\n",
    "    if random.random() > crossover_rate:\n",
    "        return ind1, ind2\n",
    "\n",
    "    # select crossover points\n",
    "    points = random.sample(range(1, len(ind1)), n_points_crossing)\n",
    "    points.sort()\n",
    "    print(points)\n",
    "\n",
    "    # crossover\n",
    "    ind1_crossover = ind1.copy()\n",
    "    ind2_crossover = ind2.copy()\n",
    "    for idx, point in enumerate(points):\n",
    "        if idx % 2 == 0:\n",
    "            ind1_crossover[point:] = ind2[point:]\n",
    "            ind2_crossover[point:] = ind1[point:]\n",
    "        else:\n",
    "            ind1_crossover[point:] = ind1[point:]\n",
    "            ind2_crossover[point:] = ind2[point:]\n",
    "\n",
    "    return ind1_crossover, ind2_crossover\n",
    "\n",
    "print_individual(test_pop[0], PROFITS_MATRIX, OBJECTS_WEIGHTS)\n",
    "print_individual(test_pop[1], PROFITS_MATRIX, OBJECTS_WEIGHTS)\n",
    "crossed1, crossed2 = crossover(test_pop[0], test_pop[1])\n",
    "print_individual(crossed1, PROFITS_MATRIX, OBJECTS_WEIGHTS)\n",
    "print_individual(crossed2, PROFITS_MATRIX, OBJECTS_WEIGHTS)"
   ],
   "metadata": {
    "collapsed": false
   }
  },
  {
   "cell_type": "markdown",
   "source": [
    "### Mutation"
   ],
   "metadata": {
    "collapsed": false
   }
  },
  {
   "cell_type": "code",
   "execution_count": 80,
   "outputs": [
    {
     "name": "stdout",
     "output_type": "stream",
     "text": [
      "[1. 1. 1. 0. 0. 1. 1. 1. 0. 1.], fit=24.11, profits=[2561. 3608. 3198.], weight= 3303\n",
      "[1. 1. 1. 0. 0. 1. 1. 1. 0. 1.], fit=24.11, profits=[2561. 3608. 3198.], weight= 3303\n"
     ]
    }
   ],
   "source": [
    "def mutation(individual: np.ndarray, mutation_rate: float = 0.1) -> np.ndarray:\n",
    "    \"\"\"\n",
    "    Mutate an individual.\n",
    "    \"\"\"\n",
    "    if random.random() > mutation_rate:\n",
    "        return individual\n",
    "\n",
    "    # select mutation point\n",
    "    point = random.randint(0, len(individual) - 1)\n",
    "\n",
    "    # mutate\n",
    "    individual[point] = 1 - individual[point]\n",
    "\n",
    "    return individual\n",
    "\n",
    "print_individual(test_pop[0], PROFITS_MATRIX, OBJECTS_WEIGHTS)\n",
    "mutated = mutation(test_pop[0])\n",
    "print_individual(mutated, PROFITS_MATRIX, OBJECTS_WEIGHTS)"
   ],
   "metadata": {
    "collapsed": false
   }
  },
  {
   "cell_type": "markdown",
   "source": [
    "## NSGA-II Algorithm"
   ],
   "metadata": {
    "collapsed": false
   }
  },
  {
   "cell_type": "code",
   "execution_count": null,
   "outputs": [],
   "source": [
    "def NSGAII_algorithm_kp(kp_params_dict: dict, pop_size: int, selection_method: str, crossover_rate: float, mutation_rate: float, n_points_crossing: int, n_generations: int, n_individuals_per_tournament: int = 10, display_history=True, verbose=False) -> list:\n",
    "    \"\"\"\n",
    "    NSGA-II algorithm for the knapsack problem.\n",
    "    \"\"\"\n",
    "\n",
    "\n",
    "    N_OBJECTIVE_FUNCTIONS: int = kp_params_dict[\"n_objective_functions\"]\n",
    "    N_OBJECTS: int = kp_params_dict[\"n_objects\"]\n",
    "    MAX_WEIGHT_CONSTRAINT: int = kp_params_dict[\"max_weight_constraint\"]\n",
    "    PROFITS_MATRIX: np.ndarray = kp_params_dict[\"profits_matrix\"]\n",
    "    OBJECTS_WEIGHTS: np.ndarray = kp_params_dict[\"objects_weights\"]\n",
    "\n",
    "    assert selection_method in [\"random\", \"tournament\", \"roulette_wheel\"], \"Selection method must be in ['random', 'tournament', 'roulette_wheel']\"\n",
    "    assert 0 <= crossover_rate <= 1, \"Crossover rate must be between 0 and 1.\"\n",
    "    assert 0 <= mutation_rate <= 1, \"Mutation rate must be between 0 and 1.\"\n",
    "    assert 0 <= n_points_crossing <= N_OBJECTS, \"Number of points for crossing must be between 0 and the number of objects.\"\n",
    "    assert 0 <= n_individuals_per_tournament <= pop_size, \"Number of individuals per tournament must be between 0 and the population size.\"\n",
    "\n",
    "    # init function\n",
    "    if selection_method == \"tournament\":\n",
    "        selection_function = partial(selection_tournament, individuals_per_tournament=n_individuals_per_tournament)\n",
    "    elif selection_method == \"roulette_wheel\":\n",
    "        selection_function = partial(selection_roulette_wheel, percentage=0.5)\n",
    "    else:\n",
    "        selection_function = partial(selection_random, percentage=0.5)\n",
    "\n",
    "    if verbose:\n",
    "        print(\">>> NSGAII_algorithm\")\n",
    "        print(\">>> Parameters:\")\n",
    "        print(f\"    * pop_size: {pop_size}\")\n",
    "        print(f\"    * n_generations: {n_generations}\")\n",
    "        print(f\"    * selection_method: {selection_method}\")\n",
    "        print(f\"    * crossover_rate: {crossover_rate}\")\n",
    "        print(f\"    * mutation_rate: {mutation_rate}\")\n",
    "        print(f\"    * n_points_crossing: {n_points_crossing}\")\n",
    "        print(f\"    * n_individuals_per_tournament: {n_individuals_per_tournament}\")\n",
    "\n",
    "\n",
    "\n",
    "    # init population\n",
    "    population = init_population(pop_size, N_OBJECTS)\n",
    "\n",
    "    # init history\n",
    "    history_best_individuals = [get_best_individual(population, PROFITS_MATRIX)]\n",
    "\n",
    "    # init archive (pareto front = non dominated individuals)\n",
    "    archive = []\n",
    "\n",
    "    # lunch generations\n",
    "    for num_gen in range(n_generations,start=1):\n",
    "        if verbose:\n",
    "            print(f\">>> Generation {num_gen}\")\n",
    "\n",
    "        # selection\n",
    "        selected_individuals = selection_function(population)\n",
    "\n",
    "        # crossover\n",
    "        crossed_individuals = []\n",
    "        for idx in range(0, len(selected_individuals), 2):\n",
    "            crossed_individuals.extend(crossover(selected_individuals[idx], selected_individuals[idx+1], crossover_rate=crossover_rate, n_points_crossing=n_points_crossing))\n",
    "\n",
    "        # mutation\n",
    "        mutated_individuals = [mutation(individual, mutation_rate) for individual in crossed_individuals]\n",
    "\n",
    "        # compute fitness\n",
    "        fitnesses = [fitness(individual, PROFITS_MATRIX) for individual in mutated_individuals]\n",
    "\n",
    "        # compute crowding distance\n",
    "        crowding_distances = [crowding_distance(individual, fitness, PROFITS_MATRIX) for individual, fitness in zip(mutated_individuals, fitnesses)]\n",
    "\n",
    "        # compute dominance\n",
    "        dominance = [dominance_relation(individual, fitness, mutated_individuals, fitnesses) for individual, fitness in zip(mutated_individuals, fitnesses)]\n",
    "\n",
    "        # compute rank\n",
    "        ranks = [rank_individuals(individual, dominance) for individual, dominance in zip(mutated_individuals, dominance)]\n",
    "\n",
    "        # compute crowding distance\n",
    "        crowding_distances = [crowding_distance(individual, fitness, PROFITS_MATRIX) for individual, fitness in zip(mutated_individuals, fitnesses)]\n",
    "\n",
    "        # compute pareto front\n",
    "        pareto_front = [individual for individual, rank in zip(mutated_individuals, ranks) if rank == 1]\n",
    "\n",
    "        # compute archive\n",
    "        archive = update_archive(archive, pareto_front)\n",
    "\n",
    "        # compute population\n",
    "        population = update_population(archive, pop_size)\n",
    "\n",
    "        # update history\n",
    "        history_best_individuals.append(get_best_individual(population, PROFITS_MATRIX))\n",
    "\n",
    "        if verbose:\n",
    "            print(f\"    * Best individual: {get_best_individual(population, PROFITS_MATRIX)}\")\n",
    "            print(f\"    * Pareto front: {pareto_front}\")\n",
    "            print(f\"    * Archive: {archive}\")\n",
    "            print(f\"    * Population: {population\n",
    "\n",
    "\n",
    "\n"
   ],
   "metadata": {
    "collapsed": false
   }
  }
 ],
 "metadata": {
  "kernelspec": {
   "display_name": "Python 3",
   "language": "python",
   "name": "python3"
  },
  "language_info": {
   "codemirror_mode": {
    "name": "ipython",
    "version": 2
   },
   "file_extension": ".py",
   "mimetype": "text/x-python",
   "name": "python",
   "nbconvert_exporter": "python",
   "pygments_lexer": "ipython2",
   "version": "2.7.6"
  }
 },
 "nbformat": 4,
 "nbformat_minor": 0
}
